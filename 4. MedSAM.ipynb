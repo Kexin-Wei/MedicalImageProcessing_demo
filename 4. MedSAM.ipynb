{
 "cells": [
  {
   "cell_type": "markdown",
   "id": "8076d46b-b0d3-4df9-971c-9b7fd63a166b",
   "metadata": {},
   "source": [
    "# MedSAM test with Prostate MRI\n",
    "https://github.com/bowang-lab/MedSAM"
   ]
  },
  {
   "cell_type": "code",
   "execution_count": 1,
   "id": "a2ab9709-c646-4667-a8f4-7dfba004534d",
   "metadata": {},
   "outputs": [
    {
     "name": "stdout",
     "output_type": "stream",
     "text": [
      "Collecting git+https://github.com/bowang-lab/MedSAM.git\n",
      "  Cloning https://github.com/bowang-lab/MedSAM.git to c:\\users\\ultrastmedtech\\appdata\\local\\temp\\pip-req-build-xxoaxxoh\n",
      "  Resolved https://github.com/bowang-lab/MedSAM.git to commit 71237ca7a942e48d2fee1b40483769ed369a2adb\n",
      "  Preparing metadata (setup.py): started\n",
      "  Preparing metadata (setup.py): finished with status 'done'\n",
      "Requirement already satisfied: monai in c:\\users\\ultrastmedtech\\.conda\\envs\\sam\\lib\\site-packages (from medsam==0.0.1) (1.2.0)\n",
      "Requirement already satisfied: matplotlib in c:\\users\\ultrastmedtech\\.conda\\envs\\sam\\lib\\site-packages (from medsam==0.0.1) (3.7.2)\n",
      "Requirement already satisfied: scikit-image in c:\\users\\ultrastmedtech\\.conda\\envs\\sam\\lib\\site-packages (from medsam==0.0.1) (0.21.0)\n",
      "Requirement already satisfied: SimpleITK>=2.2.1 in c:\\users\\ultrastmedtech\\.conda\\envs\\sam\\lib\\site-packages (from medsam==0.0.1) (2.2.1)\n",
      "Requirement already satisfied: nibabel in c:\\users\\ultrastmedtech\\.conda\\envs\\sam\\lib\\site-packages (from medsam==0.0.1) (5.1.0)\n",
      "Requirement already satisfied: tqdm in c:\\users\\ultrastmedtech\\.conda\\envs\\sam\\lib\\site-packages (from medsam==0.0.1) (4.65.0)\n",
      "Requirement already satisfied: scipy in c:\\users\\ultrastmedtech\\.conda\\envs\\sam\\lib\\site-packages (from medsam==0.0.1) (1.11.1)\n",
      "Requirement already satisfied: contourpy>=1.0.1 in c:\\users\\ultrastmedtech\\.conda\\envs\\sam\\lib\\site-packages (from matplotlib->medsam==0.0.1) (1.1.0)\n",
      "Requirement already satisfied: cycler>=0.10 in c:\\users\\ultrastmedtech\\.conda\\envs\\sam\\lib\\site-packages (from matplotlib->medsam==0.0.1) (0.11.0)\n",
      "Requirement already satisfied: fonttools>=4.22.0 in c:\\users\\ultrastmedtech\\.conda\\envs\\sam\\lib\\site-packages (from matplotlib->medsam==0.0.1) (4.41.0)\n",
      "Requirement already satisfied: kiwisolver>=1.0.1 in c:\\users\\ultrastmedtech\\.conda\\envs\\sam\\lib\\site-packages (from matplotlib->medsam==0.0.1) (1.4.4)\n",
      "Requirement already satisfied: numpy>=1.20 in c:\\users\\ultrastmedtech\\.conda\\envs\\sam\\lib\\site-packages (from matplotlib->medsam==0.0.1) (1.24.1)\n",
      "Requirement already satisfied: packaging>=20.0 in c:\\users\\ultrastmedtech\\.conda\\envs\\sam\\lib\\site-packages (from matplotlib->medsam==0.0.1) (23.1)\n",
      "Requirement already satisfied: pillow>=6.2.0 in c:\\users\\ultrastmedtech\\.conda\\envs\\sam\\lib\\site-packages (from matplotlib->medsam==0.0.1) (9.3.0)\n",
      "Requirement already satisfied: pyparsing<3.1,>=2.3.1 in c:\\users\\ultrastmedtech\\.conda\\envs\\sam\\lib\\site-packages (from matplotlib->medsam==0.0.1) (3.0.9)\n",
      "Requirement already satisfied: python-dateutil>=2.7 in c:\\users\\ultrastmedtech\\.conda\\envs\\sam\\lib\\site-packages (from matplotlib->medsam==0.0.1) (2.8.2)\n",
      "Requirement already satisfied: importlib-resources>=3.2.0 in c:\\users\\ultrastmedtech\\.conda\\envs\\sam\\lib\\site-packages (from matplotlib->medsam==0.0.1) (6.0.0)\n",
      "Requirement already satisfied: torch>=1.9 in c:\\users\\ultrastmedtech\\.conda\\envs\\sam\\lib\\site-packages (from monai->medsam==0.0.1) (2.0.1+cu117)\n",
      "Requirement already satisfied: networkx>=2.8 in c:\\users\\ultrastmedtech\\.conda\\envs\\sam\\lib\\site-packages (from scikit-image->medsam==0.0.1) (3.0)\n",
      "Requirement already satisfied: imageio>=2.27 in c:\\users\\ultrastmedtech\\.conda\\envs\\sam\\lib\\site-packages (from scikit-image->medsam==0.0.1) (2.31.1)\n",
      "Requirement already satisfied: tifffile>=2022.8.12 in c:\\users\\ultrastmedtech\\.conda\\envs\\sam\\lib\\site-packages (from scikit-image->medsam==0.0.1) (2023.7.18)\n",
      "Requirement already satisfied: PyWavelets>=1.1.1 in c:\\users\\ultrastmedtech\\.conda\\envs\\sam\\lib\\site-packages (from scikit-image->medsam==0.0.1) (1.4.1)\n",
      "Requirement already satisfied: lazy_loader>=0.2 in c:\\users\\ultrastmedtech\\.conda\\envs\\sam\\lib\\site-packages (from scikit-image->medsam==0.0.1) (0.3)\n",
      "Requirement already satisfied: colorama in c:\\users\\ultrastmedtech\\.conda\\envs\\sam\\lib\\site-packages (from tqdm->medsam==0.0.1) (0.4.6)\n",
      "Requirement already satisfied: zipp>=3.1.0 in c:\\users\\ultrastmedtech\\.conda\\envs\\sam\\lib\\site-packages (from importlib-resources>=3.2.0->matplotlib->medsam==0.0.1) (3.16.2)\n",
      "Requirement already satisfied: six>=1.5 in c:\\users\\ultrastmedtech\\.conda\\envs\\sam\\lib\\site-packages (from python-dateutil>=2.7->matplotlib->medsam==0.0.1) (1.16.0)\n",
      "Requirement already satisfied: filelock in c:\\users\\ultrastmedtech\\.conda\\envs\\sam\\lib\\site-packages (from torch>=1.9->monai->medsam==0.0.1) (3.9.0)\n",
      "Requirement already satisfied: typing-extensions in c:\\users\\ultrastmedtech\\.conda\\envs\\sam\\lib\\site-packages (from torch>=1.9->monai->medsam==0.0.1) (4.4.0)\n",
      "Requirement already satisfied: sympy in c:\\users\\ultrastmedtech\\.conda\\envs\\sam\\lib\\site-packages (from torch>=1.9->monai->medsam==0.0.1) (1.11.1)\n",
      "Requirement already satisfied: jinja2 in c:\\users\\ultrastmedtech\\.conda\\envs\\sam\\lib\\site-packages (from torch>=1.9->monai->medsam==0.0.1) (3.1.2)\n",
      "Requirement already satisfied: MarkupSafe>=2.0 in c:\\users\\ultrastmedtech\\.conda\\envs\\sam\\lib\\site-packages (from jinja2->torch>=1.9->monai->medsam==0.0.1) (2.1.2)\n",
      "Requirement already satisfied: mpmath>=0.19 in c:\\users\\ultrastmedtech\\.conda\\envs\\sam\\lib\\site-packages (from sympy->torch>=1.9->monai->medsam==0.0.1) (1.2.1)\n"
     ]
    },
    {
     "name": "stderr",
     "output_type": "stream",
     "text": [
      "  Running command git clone --filter=blob:none --quiet https://github.com/bowang-lab/MedSAM.git 'C:\\Users\\ultrastmedtech\\AppData\\Local\\Temp\\pip-req-build-xxoaxxoh'\n"
     ]
    },
    {
     "name": "stdout",
     "output_type": "stream",
     "text": [
      "Requirement already satisfied: gdown in c:\\users\\ultrastmedtech\\.conda\\envs\\sam\\lib\\site-packages (4.7.1)\n",
      "Requirement already satisfied: filelock in c:\\users\\ultrastmedtech\\.conda\\envs\\sam\\lib\\site-packages (from gdown) (3.9.0)\n",
      "Requirement already satisfied: requests[socks] in c:\\users\\ultrastmedtech\\.conda\\envs\\sam\\lib\\site-packages (from gdown) (2.28.1)\n",
      "Requirement already satisfied: six in c:\\users\\ultrastmedtech\\.conda\\envs\\sam\\lib\\site-packages (from gdown) (1.16.0)\n",
      "Requirement already satisfied: tqdm in c:\\users\\ultrastmedtech\\.conda\\envs\\sam\\lib\\site-packages (from gdown) (4.65.0)\n",
      "Requirement already satisfied: beautifulsoup4 in c:\\users\\ultrastmedtech\\.conda\\envs\\sam\\lib\\site-packages (from gdown) (4.12.2)\n",
      "Requirement already satisfied: soupsieve>1.2 in c:\\users\\ultrastmedtech\\.conda\\envs\\sam\\lib\\site-packages (from beautifulsoup4->gdown) (2.4.1)\n",
      "Requirement already satisfied: charset-normalizer<3,>=2 in c:\\users\\ultrastmedtech\\.conda\\envs\\sam\\lib\\site-packages (from requests[socks]->gdown) (2.1.1)\n",
      "Requirement already satisfied: idna<4,>=2.5 in c:\\users\\ultrastmedtech\\.conda\\envs\\sam\\lib\\site-packages (from requests[socks]->gdown) (3.4)\n",
      "Requirement already satisfied: urllib3<1.27,>=1.21.1 in c:\\users\\ultrastmedtech\\.conda\\envs\\sam\\lib\\site-packages (from requests[socks]->gdown) (1.26.13)\n",
      "Requirement already satisfied: certifi>=2017.4.17 in c:\\users\\ultrastmedtech\\.conda\\envs\\sam\\lib\\site-packages (from requests[socks]->gdown) (2022.12.7)\n",
      "Requirement already satisfied: PySocks!=1.5.7,>=1.5.6 in c:\\users\\ultrastmedtech\\.conda\\envs\\sam\\lib\\site-packages (from requests[socks]->gdown) (1.7.1)\n",
      "Requirement already satisfied: colorama in c:\\users\\ultrastmedtech\\.conda\\envs\\sam\\lib\\site-packages (from tqdm->gdown) (0.4.6)\n"
     ]
    },
    {
     "name": "stderr",
     "output_type": "stream",
     "text": [
      "Downloading...\n",
      "From (uriginal): https://drive.google.com/uc?id=1UAmWL88roYR7wKlnApw5Bcuzf2iQgk6_\n",
      "From (redirected): https://drive.google.com/uc?id=1UAmWL88roYR7wKlnApw5Bcuzf2iQgk6_&confirm=t&uuid=8cdee512-a511-4e19-a55b-4741652e21ee\n",
      "To: E:\\ITKMedicalImageProcessing_demo\\medsam_vit_b.pth\n",
      "\n",
      "  0%|          | 0.00/375M [00:00<?, ?B/s]\n",
      "  2%|1         | 5.77M/375M [00:00<00:06, 55.4MB/s]\n",
      "  5%|4         | 17.3M/375M [00:00<00:04, 88.7MB/s]\n",
      "  7%|6         | 26.2M/375M [00:00<00:04, 84.6MB/s]\n",
      "  9%|9         | 35.1M/375M [00:00<00:03, 86.1MB/s]\n",
      " 12%|#2        | 45.6M/375M [00:00<00:03, 91.8MB/s]\n",
      " 15%|#5        | 57.1M/375M [00:00<00:03, 97.8MB/s]\n",
      " 18%|#7        | 67.1M/375M [00:00<00:03, 94.5MB/s]\n",
      " 21%|##        | 77.1M/375M [00:00<00:03, 85.9MB/s]\n",
      " 23%|##2       | 86.0M/375M [00:00<00:03, 82.4MB/s]\n",
      " 26%|##6       | 97.5M/375M [00:01<00:03, 90.4MB/s]\n",
      " 29%|##8       | 109M/375M [00:01<00:02, 94.6MB/s] \n",
      " 32%|###1      | 118M/375M [00:01<00:02, 91.4MB/s]\n",
      " 34%|###4      | 128M/375M [00:01<00:02, 89.4MB/s]\n",
      " 37%|###6      | 137M/375M [00:01<00:02, 86.2MB/s]\n",
      " 40%|###9      | 148M/375M [00:01<00:02, 91.1MB/s]\n",
      " 42%|####2     | 158M/375M [00:01<00:02, 91.0MB/s]\n",
      " 45%|####4     | 167M/375M [00:01<00:02, 89.4MB/s]\n",
      " 47%|####7     | 177M/375M [00:02<00:02, 83.2MB/s]\n",
      " 49%|####9     | 186M/375M [00:02<00:02, 80.8MB/s]\n",
      " 52%|#####1    | 194M/375M [00:02<00:02, 80.1MB/s]\n",
      " 54%|#####4    | 203M/375M [00:02<00:02, 82.4MB/s]\n",
      " 57%|#####6    | 212M/375M [00:02<00:01, 85.2MB/s]\n",
      " 59%|#####9    | 222M/375M [00:02<00:01, 86.4MB/s]\n",
      " 62%|######1   | 231M/375M [00:02<00:01, 87.1MB/s]\n",
      " 64%|######3   | 240M/375M [00:02<00:01, 86.8MB/s]\n",
      " 66%|######6   | 249M/375M [00:02<00:01, 87.0MB/s]\n",
      " 69%|######8   | 258M/375M [00:02<00:01, 88.3MB/s]\n",
      " 71%|#######1  | 267M/375M [00:03<00:01, 88.0MB/s]\n",
      " 74%|#######3  | 276M/375M [00:03<00:01, 88.1MB/s]\n",
      " 76%|#######5  | 285M/375M [00:03<00:01, 85.3MB/s]\n",
      " 78%|#######8  | 294M/375M [00:03<00:00, 86.0MB/s]\n",
      " 81%|########  | 303M/375M [00:03<00:00, 86.2MB/s]\n",
      " 83%|########3 | 312M/375M [00:03<00:00, 87.0MB/s]\n",
      " 86%|########5 | 321M/375M [00:03<00:00, 77.8MB/s]\n",
      " 88%|########7 | 329M/375M [00:03<00:00, 75.9MB/s]\n",
      " 91%|######### | 340M/375M [00:03<00:00, 81.7MB/s]\n",
      " 94%|#########3| 352M/375M [00:04<00:00, 91.4MB/s]\n",
      " 96%|#########6| 362M/375M [00:04<00:00, 90.6MB/s]\n",
      " 99%|#########9| 372M/375M [00:04<00:00, 91.2MB/s]\n",
      "100%|##########| 375M/375M [00:04<00:00, 87.0MB/s]\n",
      "'confirm' is not recognized as an internal or external command,\n",
      "operable program or batch file.\n"
     ]
    }
   ],
   "source": [
    "!pip install git+https://github.com/bowang-lab/MedSAM.git\n",
    "!pip install gdown\n",
    "\n",
    "model_id = \"1UAmWL88roYR7wKlnApw5Bcuzf2iQgk6_&confirm=t\"\n",
    "!gdown $model_id\n",
    "!mv medsam_vit_b.pth ../"
   ]
  },
  {
   "cell_type": "markdown",
   "id": "5c97596b-f342-4ae6-96da-da36f3c32ceb",
   "metadata": {},
   "source": [
    "## Import"
   ]
  },
  {
   "cell_type": "code",
   "execution_count": 1,
   "id": "4ac58041-eafc-477d-ae09-4f26bfaf329f",
   "metadata": {},
   "outputs": [],
   "source": [
    "# %% environment and functions\n",
    "import re\n",
    "import cv2\n",
    "import numpy as np\n",
    "import matplotlib.pyplot as plt\n",
    "import os\n",
    "join = os.path.join\n",
    "import torch\n",
    "from segment_anything import sam_model_registry\n",
    "from skimage import io, transform\n",
    "import torch.nn.functional as F\n",
    "import SimpleITK as sitk\n",
    "from pathlib import Path\n",
    "from lib.folder import FolderMg\n",
    "from lib.sam_base import BasicSAM"
   ]
  },
  {
   "cell_type": "code",
   "execution_count": 2,
   "id": "b609e7fd-5a36-4083-bc05-f7e71243742c",
   "metadata": {},
   "outputs": [],
   "source": [
    "# visualization functions\n",
    "# source: https://github.com/facebookresearch/segment-anything/blob/main/notebooks/predictor_example.ipynb\n",
    "# change color to avoid red and green\n",
    "def show_mask(mask, ax, random_color=False):\n",
    "    if random_color:\n",
    "        color = np.concatenate([np.random.random(3), np.array([0.6])], axis=0)\n",
    "    else:\n",
    "        color = np.array([251/255, 252/255, 30/255, 0.6])\n",
    "    h, w = mask.shape[-2:]\n",
    "    mask_image = mask.reshape(h, w, 1) * color.reshape(1, 1, -1)\n",
    "    ax.imshow(mask_image)\n",
    "\n",
    "def show_points(coords, labels, ax, marker_size=375):\n",
    "    pos_points = coords[labels==1]\n",
    "    neg_points = coords[labels==0]\n",
    "    ax.scatter(pos_points[:, 0], pos_points[:, 1], color='green', marker='*', s=marker_size, edgecolor='white', linewidth=1.25)\n",
    "    ax.scatter(neg_points[:, 0], neg_points[:, 1], color='red', marker='*', s=marker_size, edgecolor='white', linewidth=1.25)\n",
    "\n",
    "def show_box(box, ax):\n",
    "    x0, y0 = box[0], box[1]\n",
    "    w, h = box[2] - box[0], box[3] - box[1]\n",
    "    ax.add_patch(plt.Rectangle((x0, y0), w, h, edgecolor='green', facecolor=(0,0,0,0), lw=2))\n",
    "\n",
    "@torch.no_grad()\n",
    "def medsam_inference(medsam_model, img_embed, box_1024, H, W):\n",
    "    box_torch = torch.as_tensor(box_1024, dtype=torch.float, device=img_embed.device)\n",
    "    if len(box_torch.shape) == 2:\n",
    "        box_torch = box_torch[:, None, :] # (B, 1, 4)\n",
    "\n",
    "    sparse_embeddings, dense_embeddings = medsam_model.prompt_encoder(\n",
    "        points=None,\n",
    "        boxes=box_torch,\n",
    "        masks=None,\n",
    "    )\n",
    "    low_res_logits, _ = medsam_model.mask_decoder(\n",
    "        image_embeddings=img_embed, # (B, 256, 64, 64)\n",
    "        image_pe=medsam_model.prompt_encoder.get_dense_pe(), # (1, 256, 64, 64)\n",
    "        sparse_prompt_embeddings=sparse_embeddings, # (B, 2, 256)\n",
    "        dense_prompt_embeddings=dense_embeddings, # (B, 256, 64, 64)\n",
    "        multimask_output=False,\n",
    "        )\n",
    "\n",
    "    low_res_pred = torch.sigmoid(low_res_logits)  # (1, 1, 256, 256)\n",
    "\n",
    "    low_res_pred = F.interpolate(\n",
    "        low_res_pred,\n",
    "        size=(H, W),\n",
    "        mode=\"bilinear\",\n",
    "        align_corners=False,\n",
    "    )  # (1, 1, gt.shape)\n",
    "    low_res_pred = low_res_pred.squeeze().cpu().numpy()  # (256, 256)\n",
    "    medsam_seg = (low_res_pred > 0.5).astype(np.uint8)\n",
    "    return medsam_seg"
   ]
  },
  {
   "cell_type": "code",
   "execution_count": 3,
   "id": "c94d3a68-b7b9-4384-95d5-3700852182fe",
   "metadata": {},
   "outputs": [
    {
     "name": "stdout",
     "output_type": "stream",
     "text": [
      "\n",
      "Current Folder 'mri-prostate-slices-resample' contains 11 folders, which are:\n",
      "  - 1_029_10slices\n",
      "  - 2_837_19slices\n",
      "  - 3_947_10slices\n",
      "  - 4_920_19slices\n",
      "  - 6_624_17slices\n",
      "  - ...\n",
      "\n",
      "Current Folder 'mri-prostate-slices-resample' contains NO files\n",
      "\n"
     ]
    }
   ],
   "source": [
    "sourceFolderName = \"mri-prostate-slices-resample\"\n",
    "sourceDataPath = Path(\"data\").joinpath(sourceFolderName)\n",
    "sourceMg = FolderMg(sourceDataPath)\n",
    "sourceMg.ls()"
   ]
  },
  {
   "cell_type": "code",
   "execution_count": 4,
   "id": "9575ce72-9728-4ddf-ba8f-154a6dd4fd04",
   "metadata": {},
   "outputs": [
    {
     "name": "stdout",
     "output_type": "stream",
     "text": [
      "SAM Model set up finished.\n"
     ]
    }
   ],
   "source": [
    "destinationPath = Path(\"result\").joinpath(\"medsam-\"+sourceFolderName)\n",
    "samModel = BasicSAM(\"medsam_vit_b\")"
   ]
  },
  {
   "cell_type": "code",
   "execution_count": 5,
   "id": "6af720be-f0c5-48fb-b30e-95e4c274a87a",
   "metadata": {},
   "outputs": [],
   "source": [
    "slice_range = {\n",
    "    \"1\": [2, 7],\n",
    "    \"2\": [9, 12],\n",
    "    \"3\": [3, 6],\n",
    "    \"4\": [6, 12],\n",
    "    \"6\": [6, 9],\n",
    "    \"7\": [4, 15],\n",
    "    \"8\": [5, 7],\n",
    "    \"9\": [6, 9],\n",
    "    \"10\": [3, 9],\n",
    "    \"11\": [7, 10],\n",
    "    \"12\": [4, 7],\n",
    "}"
   ]
  },
  {
   "cell_type": "markdown",
   "id": "2e7c102d-9e7d-4c48-accf-acc9c90826a9",
   "metadata": {},
   "source": [
    "## Main"
   ]
  },
  {
   "cell_type": "code",
   "execution_count": 7,
   "id": "9783b9cd-5e10-4d77-8464-6ed6a889d942",
   "metadata": {},
   "outputs": [
    {
     "name": "stdout",
     "output_type": "stream",
     "text": [
      "Processing folders:\n",
      "- 1_029_10slices\n",
      "- 2_837_19slices\n",
      "- 3_947_10slices\n",
      "- 4_920_19slices\n",
      "- 6_624_17slices\n",
      "- 7_709_20slices\n",
      "- 8_258_16slices\n",
      "- 9_825_15slices\n",
      "- 10_213_13slices\n",
      "- 11_543_18slices\n",
      "- 12_244_14slices\n",
      "Finished\n"
     ]
    }
   ],
   "source": [
    "print(\"Processing folders:\")\n",
    "for fd in sourceMg.dirs:\n",
    "    print(f\"- {fd.name}\")\n",
    "    fdMg = FolderMg(fd)\n",
    "\n",
    "    outputFolderPath = destinationPath.joinpath(f\"{fd.name}\")\n",
    "    if not outputFolderPath.exists():\n",
    "        outputFolderPath.mkdir(parents=True)\n",
    "    fdIdx = re.search(\"([0-9]+)\", fd.stem).group(0)\n",
    "    # print(f\"fdIdx:{fdIdx}\")\n",
    "    # middleFile = fdMg.files[int(fdMg.nFile / 2)]\n",
    "    # figSavePath = outputFolderPath.joinpath(f\"{middleFile.name}_mask_\")\n",
    "    # masks, scores = predictOneImg(middleFile, predictor, figSavePath, False)\n",
    "    sliceSegResult = []\n",
    "    for slice in fdMg.files:\n",
    "        sliceIdx = int(re.search(\"([0-9]+)\", slice.stem).group(0))\n",
    "        figSavePath = outputFolderPath.joinpath(f\"{slice.name}\")\n",
    "        if sliceIdx < slice_range[fdIdx][0] or sliceIdx > slice_range[fdIdx][1]:\n",
    "            mask = samModel.skipPredictAndSaveEmpty(slice, figSavePath)\n",
    "            sliceSegResult.append(mask.astype(int).squeeze())\n",
    "            continue\n",
    "        # print(\n",
    "        #     f\"stem:{slice.stem}\"\n",
    "        #     f\"slice_range[fdIdx][0]: {slice_range[fdIdx][0]}, \"\n",
    "        #     f\"slice_range[fdIdx][1]:{slice_range[fdIdx][1]}, \"\n",
    "        #     f\"sliceIdx:{sliceIdx}\"\n",
    "        # )\n",
    "        masks, scores = samModel.predictOneImg(slice, figSavePath, onlyFirstMask=True)\n",
    "        sliceSegResult.append(masks[0].astype(int).squeeze())\n",
    "    imgSize = (masks.shape[0], masks.shape[1], fdMg.nFile)  # x,y,z\n",
    "    # imgSegResult = sitk.Image(masks[0].shape[0],masks[0].shape[1], fdMg.nFile, sitk.sitkUInt8)\n",
    "    segImgArray = np.array([sliceSegResult]).astype(int).squeeze()\n",
    "    segImg = sitk.GetImageFromArray(segImgArray)\n",
    "    imgSavePath = destinationPath.joinpath(f\"seg_{fd.name}.nii.gz\")\n",
    "    sitk.WriteImage(segImg, imgSavePath)\n",
    "    plt.close(\"all\")\n",
    "print(\"Finished\")"
   ]
  },
  {
   "cell_type": "markdown",
   "id": "75300dde-bc78-4f46-8cdd-37e481d3a421",
   "metadata": {},
   "source": [
    "# Result"
   ]
  },
  {
   "cell_type": "markdown",
   "id": "00a5f2fa-be8a-45a6-a45f-dcea8ef08b5e",
   "metadata": {},
   "source": [
    "not accurate for prompt"
   ]
  }
 ],
 "metadata": {
  "kernelspec": {
   "display_name": "Python 3 (ipykernel)",
   "language": "python",
   "name": "python3"
  },
  "language_info": {
   "codemirror_mode": {
    "name": "ipython",
    "version": 3
   },
   "file_extension": ".py",
   "mimetype": "text/x-python",
   "name": "python",
   "nbconvert_exporter": "python",
   "pygments_lexer": "ipython3",
   "version": "3.9.17"
  }
 },
 "nbformat": 4,
 "nbformat_minor": 5
}
