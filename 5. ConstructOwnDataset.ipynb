{
 "cells": [
  {
   "cell_type": "code",
   "execution_count": 1,
   "id": "799183b6",
   "metadata": {},
   "outputs": [],
   "source": [
    "%load_ext autoreload\n",
    "%autoreload 2"
   ]
  },
  {
   "cell_type": "code",
   "execution_count": 2,
   "id": "eb122c1e-d307-44f1-8ea6-5d980fc91d51",
   "metadata": {},
   "outputs": [],
   "source": [
    "import random\n",
    "import tqdm\n",
    "import shutil\n",
    "import SimpleITK as sitk\n",
    "from pathlib import Path\n",
    "from typing import List\n",
    "\n",
    "from lib.folder.basic import FolderMg\n",
    "from lib.folder.med import DicomImageFolderMg, DicomImageFolderMgITK"
   ]
  },
  {
   "cell_type": "code",
   "execution_count": 3,
   "id": "e5a9ad3d-d41a-4a3f-85bd-5bee818a40b3",
   "metadata": {},
   "outputs": [],
   "source": [
    "def findDuplicateFileName(file_list: List[Path]):\n",
    "    file_names = []\n",
    "    for f in file_list:\n",
    "        f_name = f.name.split(\".\")[0]\n",
    "        if f_name in file_names:\n",
    "            print(f)\n",
    "        else:\n",
    "            file_names.append(f_name)\n",
    "    print(f\"Files should have {len(file_list)}, names have {len(file_names)}\")\n",
    "    return file_names"
   ]
  },
  {
   "cell_type": "markdown",
   "id": "f99b1ce3-bc8a-4bf0-8a4d-9826a2212b19",
   "metadata": {},
   "source": [
    "# Construct Prostate Dataset"
   ]
  },
  {
   "cell_type": "code",
   "execution_count": 3,
   "id": "727e4512-c164-4041-8b6f-5490d9e9d9d3",
   "metadata": {},
   "outputs": [
    {
     "ename": "FileNotFoundError",
     "evalue": "[WinError 3] The system cannot find the path specified: 'D:\\\\Medical Image - Research\\\\Clinical Data Prostate Segmentation Image Packages\\\\ReviewData'",
     "output_type": "error",
     "traceback": [
      "\u001b[1;31m---------------------------------------------------------------------------\u001b[0m",
      "\u001b[1;31mFileNotFoundError\u001b[0m                         Traceback (most recent call last)",
      "Cell \u001b[1;32mIn[3], line 4\u001b[0m\n\u001b[0;32m      1\u001b[0m sourceDataPath \u001b[38;5;241m=\u001b[39m Path(\n\u001b[0;32m      2\u001b[0m     \u001b[38;5;124m\"\u001b[39m\u001b[38;5;124mD:\u001b[39m\u001b[38;5;124m\\\u001b[39m\u001b[38;5;124mMedical Image - Research\u001b[39m\u001b[38;5;124m\\\u001b[39m\u001b[38;5;124mClinical Data Prostate Segmentation Image Packages\u001b[39m\u001b[38;5;124m\\\u001b[39m\u001b[38;5;124mReviewData\u001b[39m\u001b[38;5;124m\"\u001b[39m\n\u001b[0;32m      3\u001b[0m )\n\u001b[1;32m----> 4\u001b[0m sourceDataMg \u001b[38;5;241m=\u001b[39m \u001b[43mFolderMg\u001b[49m\u001b[43m(\u001b[49m\u001b[43msourceDataPath\u001b[49m\u001b[43m)\u001b[49m\n\u001b[0;32m      5\u001b[0m sourceDataMg\u001b[38;5;241m.\u001b[39mls()\n",
      "File \u001b[1;32md:\\GitRepos\\MedicalImageProcessing_demo\\lib\\folder\\basic.py:113\u001b[0m, in \u001b[0;36mFolderMg.__init__\u001b[1;34m(self, folderFullPath)\u001b[0m\n\u001b[0;32m    111\u001b[0m \u001b[38;5;28mself\u001b[39m\u001b[38;5;241m.\u001b[39mparentFolder \u001b[38;5;241m=\u001b[39m \u001b[38;5;28mself\u001b[39m\u001b[38;5;241m.\u001b[39mfull_path\u001b[38;5;241m.\u001b[39mparent\n\u001b[0;32m    112\u001b[0m \u001b[38;5;28mself\u001b[39m\u001b[38;5;241m.\u001b[39mfolderName \u001b[38;5;241m=\u001b[39m \u001b[38;5;28mself\u001b[39m\u001b[38;5;241m.\u001b[39mfull_path\u001b[38;5;241m.\u001b[39mname\n\u001b[1;32m--> 113\u001b[0m \u001b[38;5;28;43mself\u001b[39;49m\u001b[38;5;241;43m.\u001b[39;49m\u001b[43m_ge_files_dirs\u001b[49m\u001b[43m(\u001b[49m\u001b[43m)\u001b[49m\n",
      "File \u001b[1;32md:\\GitRepos\\MedicalImageProcessing_demo\\lib\\folder\\basic.py:59\u001b[0m, in \u001b[0;36mFolderMgBase._ge_files_dirs\u001b[1;34m(self)\u001b[0m\n\u001b[0;32m     57\u001b[0m \u001b[38;5;28;01mdef\u001b[39;00m \u001b[38;5;21m_ge_files_dirs\u001b[39m(\u001b[38;5;28mself\u001b[39m):\n\u001b[0;32m     58\u001b[0m     \u001b[38;5;28;01mif\u001b[39;00m \u001b[38;5;28mself\u001b[39m\u001b[38;5;241m.\u001b[39mfull_path \u001b[38;5;129;01mis\u001b[39;00m \u001b[38;5;129;01mnot\u001b[39;00m \u001b[38;5;28;01mNone\u001b[39;00m:\n\u001b[1;32m---> 59\u001b[0m         \u001b[38;5;28mself\u001b[39m\u001b[38;5;241m.\u001b[39mdirs \u001b[38;5;241m=\u001b[39m [p \u001b[38;5;28;01mfor\u001b[39;00m p \u001b[38;5;129;01min\u001b[39;00m \u001b[38;5;28mself\u001b[39m\u001b[38;5;241m.\u001b[39mfull_path\u001b[38;5;241m.\u001b[39miterdir() \u001b[38;5;28;01mif\u001b[39;00m p\u001b[38;5;241m.\u001b[39mis_dir()]\n\u001b[0;32m     60\u001b[0m         \u001b[38;5;28mself\u001b[39m\u001b[38;5;241m.\u001b[39mfiles \u001b[38;5;241m=\u001b[39m [f \u001b[38;5;28;01mfor\u001b[39;00m f \u001b[38;5;129;01min\u001b[39;00m \u001b[38;5;28mself\u001b[39m\u001b[38;5;241m.\u001b[39mfull_path\u001b[38;5;241m.\u001b[39miterdir() \u001b[38;5;28;01mif\u001b[39;00m f\u001b[38;5;241m.\u001b[39mis_file()]\n\u001b[0;32m     61\u001b[0m         \u001b[38;5;28mself\u001b[39m\u001b[38;5;241m.\u001b[39mdirs \u001b[38;5;241m=\u001b[39m natsort\u001b[38;5;241m.\u001b[39mnatsorted(\u001b[38;5;28mself\u001b[39m\u001b[38;5;241m.\u001b[39mdirs)\n",
      "File \u001b[1;32md:\\GitRepos\\MedicalImageProcessing_demo\\lib\\folder\\basic.py:59\u001b[0m, in \u001b[0;36m<listcomp>\u001b[1;34m(.0)\u001b[0m\n\u001b[0;32m     57\u001b[0m \u001b[38;5;28;01mdef\u001b[39;00m \u001b[38;5;21m_ge_files_dirs\u001b[39m(\u001b[38;5;28mself\u001b[39m):\n\u001b[0;32m     58\u001b[0m     \u001b[38;5;28;01mif\u001b[39;00m \u001b[38;5;28mself\u001b[39m\u001b[38;5;241m.\u001b[39mfull_path \u001b[38;5;129;01mis\u001b[39;00m \u001b[38;5;129;01mnot\u001b[39;00m \u001b[38;5;28;01mNone\u001b[39;00m:\n\u001b[1;32m---> 59\u001b[0m         \u001b[38;5;28mself\u001b[39m\u001b[38;5;241m.\u001b[39mdirs \u001b[38;5;241m=\u001b[39m [p \u001b[38;5;28;01mfor\u001b[39;00m p \u001b[38;5;129;01min\u001b[39;00m \u001b[38;5;28mself\u001b[39m\u001b[38;5;241m.\u001b[39mfull_path\u001b[38;5;241m.\u001b[39miterdir() \u001b[38;5;28;01mif\u001b[39;00m p\u001b[38;5;241m.\u001b[39mis_dir()]\n\u001b[0;32m     60\u001b[0m         \u001b[38;5;28mself\u001b[39m\u001b[38;5;241m.\u001b[39mfiles \u001b[38;5;241m=\u001b[39m [f \u001b[38;5;28;01mfor\u001b[39;00m f \u001b[38;5;129;01min\u001b[39;00m \u001b[38;5;28mself\u001b[39m\u001b[38;5;241m.\u001b[39mfull_path\u001b[38;5;241m.\u001b[39miterdir() \u001b[38;5;28;01mif\u001b[39;00m f\u001b[38;5;241m.\u001b[39mis_file()]\n\u001b[0;32m     61\u001b[0m         \u001b[38;5;28mself\u001b[39m\u001b[38;5;241m.\u001b[39mdirs \u001b[38;5;241m=\u001b[39m natsort\u001b[38;5;241m.\u001b[39mnatsorted(\u001b[38;5;28mself\u001b[39m\u001b[38;5;241m.\u001b[39mdirs)\n",
      "File \u001b[1;32mc:\\Users\\weike\\.conda\\envs\\med-img\\lib\\pathlib.py:1160\u001b[0m, in \u001b[0;36mPath.iterdir\u001b[1;34m(self)\u001b[0m\n\u001b[0;32m   1156\u001b[0m \u001b[38;5;28;01mdef\u001b[39;00m \u001b[38;5;21miterdir\u001b[39m(\u001b[38;5;28mself\u001b[39m):\n\u001b[0;32m   1157\u001b[0m \u001b[38;5;250m    \u001b[39m\u001b[38;5;124;03m\"\"\"Iterate over the files in this directory.  Does not yield any\u001b[39;00m\n\u001b[0;32m   1158\u001b[0m \u001b[38;5;124;03m    result for the special paths '.' and '..'.\u001b[39;00m\n\u001b[0;32m   1159\u001b[0m \u001b[38;5;124;03m    \"\"\"\u001b[39;00m\n\u001b[1;32m-> 1160\u001b[0m     \u001b[38;5;28;01mfor\u001b[39;00m name \u001b[38;5;129;01min\u001b[39;00m \u001b[38;5;28;43mself\u001b[39;49m\u001b[38;5;241;43m.\u001b[39;49m\u001b[43m_accessor\u001b[49m\u001b[38;5;241;43m.\u001b[39;49m\u001b[43mlistdir\u001b[49m\u001b[43m(\u001b[49m\u001b[38;5;28;43mself\u001b[39;49m\u001b[43m)\u001b[49m:\n\u001b[0;32m   1161\u001b[0m         \u001b[38;5;28;01mif\u001b[39;00m name \u001b[38;5;129;01min\u001b[39;00m {\u001b[38;5;124m'\u001b[39m\u001b[38;5;124m.\u001b[39m\u001b[38;5;124m'\u001b[39m, \u001b[38;5;124m'\u001b[39m\u001b[38;5;124m..\u001b[39m\u001b[38;5;124m'\u001b[39m}:\n\u001b[0;32m   1162\u001b[0m             \u001b[38;5;66;03m# Yielding a path object for these makes little sense\u001b[39;00m\n\u001b[0;32m   1163\u001b[0m             \u001b[38;5;28;01mcontinue\u001b[39;00m\n",
      "\u001b[1;31mFileNotFoundError\u001b[0m: [WinError 3] The system cannot find the path specified: 'D:\\\\Medical Image - Research\\\\Clinical Data Prostate Segmentation Image Packages\\\\ReviewData'"
     ]
    }
   ],
   "source": [
    "sourceDataPath = Path(\n",
    "    \"D:\\Medical Image - Research\\Clinical Data Prostate Segmentation Image Packages\\ReviewData\"\n",
    ")\n",
    "sourceDataMg = FolderMg(sourceDataPath)\n",
    "sourceDataMg.ls()"
   ]
  },
  {
   "cell_type": "markdown",
   "id": "855931ae-6d58-4b65-a6b5-5d56e47595e7",
   "metadata": {},
   "source": [
    "## Get valid Data\n",
    "1. according to the segmentation result, remove file with & in the name.\n",
    "2. find the original file according to valid segmentation result file"
   ]
  },
  {
   "cell_type": "code",
   "execution_count": null,
   "id": "305c096f-19a7-4603-9150-9b68cd41f581",
   "metadata": {},
   "outputs": [
    {
     "name": "stdout",
     "output_type": "stream",
     "text": [
      "DataPack1\n",
      "DataPack2\n",
      "DataPack3\n",
      "DataPack4\n",
      "DataPack5\n",
      "DataPack6\n",
      "DataPack7\n",
      "DataPack8\n",
      "DataPack9\n",
      "DataPack10\n",
      "DataPack11\n",
      "DataPack12\n",
      "DataPack13\n",
      "DataPack14\n"
     ]
    }
   ],
   "source": [
    "validSegmentationFiles = []\n",
    "validOriginalFiles = []\n",
    "for d in sourceDataMg.dirs:\n",
    "    print(d.name)\n",
    "    tempOgMg = FolderMg(d)\n",
    "    # tempOgMg.ls()\n",
    "    tempSegMg = FolderMg(d.joinpath(\"Segmentation\"))\n",
    "    # tempSegMg.ls()\n",
    "\n",
    "    useableFile = [f for f in tempSegMg.files if \"&\" not in f.name]\n",
    "    for i, segf in enumerate(useableFile):\n",
    "        segf_name = segf.name.split(\".\")[0]\n",
    "        matchOgFiles = []\n",
    "        for ogf in tempOgMg.files:\n",
    "            ogf_name = ogf.stem\n",
    "            if segf_name == ogf_name:\n",
    "                matchOgFiles.append(ogf)\n",
    "        # matchOgFiles = [ ogf for ogf in tempOgMg.files if segf_name in ogf.name and ogf.name in segf_name]\n",
    "        if len(matchOgFiles) != 1:\n",
    "            print(segf, matchOgFiles)\n",
    "            break\n",
    "        validOriginalFiles.extend(matchOgFiles)\n",
    "    validSegmentationFiles.extend(useableFile)\n",
    "assert len(validOriginalFiles) == len(validSegmentationFiles)"
   ]
  },
  {
   "cell_type": "markdown",
   "id": "54c3e07d-a220-410a-bf05-46bab20cd13b",
   "metadata": {},
   "source": [
    "## Filter out the same size original data"
   ]
  },
  {
   "cell_type": "code",
   "execution_count": null,
   "id": "3f1326e1-2904-44b2-bfb7-7241e213c063",
   "metadata": {},
   "outputs": [],
   "source": [
    "sizeDict = {}\n",
    "for i, f in enumerate(validOriginalFiles):\n",
    "    key = f.stat().st_size\n",
    "    if key in sizeDict:\n",
    "        duplicatesFiles = sourceDataPath.parent.joinpath(\"dup\", sizeDict[key].stem)\n",
    "        if not duplicatesFiles.exists():\n",
    "            Path.mkdir(duplicatesFiles, parents=True)\n",
    "        shutil.copy2(f, duplicatesFiles)\n",
    "        shutil.copy2(sizeDict[key], duplicatesFiles)\n",
    "        # print(key, sizeDict[key], f)\n",
    "    else:\n",
    "        sizeDict[key] = f"
   ]
  },
  {
   "cell_type": "code",
   "execution_count": null,
   "id": "b9da436a-c4ef-43cc-906f-724b82073cdc",
   "metadata": {},
   "outputs": [
    {
     "data": {
      "text/plain": [
       "99"
      ]
     },
     "execution_count": 6,
     "metadata": {},
     "output_type": "execute_result"
    }
   ],
   "source": [
    "len(sizeDict)"
   ]
  },
  {
   "cell_type": "markdown",
   "id": "bb049baf-6010-4a8e-87fa-d67c547f3177",
   "metadata": {},
   "source": [
    "## Shuffle the original data"
   ]
  },
  {
   "cell_type": "code",
   "execution_count": null,
   "id": "3f927e5a-e9eb-4db5-b6aa-0b7803dce605",
   "metadata": {},
   "outputs": [
    {
     "name": "stdout",
     "output_type": "stream",
     "text": [
      "D:\\Medical Image - Research\\Clinical Data Prostate Segmentation Image Packages\\ReviewData\\DataPack1\\FollowMR_t2_tse_fdixon_tra_p2_256_in_RD_UT20211224151916.mha\n",
      "D:\\Medical Image - Research\\Clinical Data Prostate Segmentation Image Packages\\ReviewData\\DataPack8\\MainMR_t2_tse_fdixon_tra_p2_256_W_RD_UT20211224151916.mha\n",
      "99\n",
      "Files should have 99, names have 99\n"
     ]
    },
    {
     "data": {
      "text/plain": [
       "'MainMR_t2_tse_fdixon_tra_p2_256_W_RD_UT20211224151916'"
      ]
     },
     "execution_count": 7,
     "metadata": {},
     "output_type": "execute_result"
    }
   ],
   "source": [
    "ogFiles = list(sizeDict.values())\n",
    "random.shuffle(ogFiles)\n",
    "print(list(sizeDict.values())[0])\n",
    "print(ogFiles[0])\n",
    "print(len(ogFiles))\n",
    "ogFilesNames = findDuplicateFileName(ogFiles)\n",
    "ogFilesNames[0]"
   ]
  },
  {
   "cell_type": "markdown",
   "id": "82434a74-e018-4c0e-8472-be5ddfafccf8",
   "metadata": {},
   "source": [
    "## Find its corrsponding segmentation result given new original data "
   ]
  },
  {
   "cell_type": "code",
   "execution_count": null,
   "id": "7050ec2f-2478-42bf-b01a-222b6d40ff51",
   "metadata": {},
   "outputs": [
    {
     "data": {
      "text/plain": [
       "99"
      ]
     },
     "execution_count": 8,
     "metadata": {},
     "output_type": "execute_result"
    }
   ],
   "source": [
    "ogSegPair = {}\n",
    "for ogf in ogFiles:\n",
    "    ogf_name = ogf.name.split(\".\")[0]\n",
    "    matchFiles = []\n",
    "    for segf in validSegmentationFiles:\n",
    "        segf_name = segf.name.split(\".\")[0]\n",
    "        if ogf_name == segf_name:\n",
    "            matchFiles.append(segf)\n",
    "            # print(ogf_name, segf_name)\n",
    "    if len(matchFiles) != 1:\n",
    "        print(ogf, matchFiles)\n",
    "        break\n",
    "    ogSegPair[ogf_name] = [ogf, matchFiles[0]]\n",
    "len(ogSegPair)"
   ]
  },
  {
   "cell_type": "markdown",
   "id": "337d33d1-4ef5-4610-8abf-c1965919d64c",
   "metadata": {},
   "source": [
    "## Construct Dataset and save to folder\n",
    "convert .mha and .nrrd to nii.gz"
   ]
  },
  {
   "cell_type": "code",
   "execution_count": null,
   "id": "26d60d85-d8a4-4fa7-94cb-5cf3564ce9ba",
   "metadata": {},
   "outputs": [
    {
     "name": "stdout",
     "output_type": "stream",
     "text": [
      "Dataset is done\n"
     ]
    }
   ],
   "source": [
    "datasetPath = sourceDataPath.parent.joinpath(f\"Dataset078_UltrastProstate\")\n",
    "if not datasetPath.exists():\n",
    "    datasetPath.mkdir(parents=True)\n",
    "segmentationPath = datasetPath.joinpath(\"labels\")\n",
    "if not datasetPath.exists():\n",
    "    datasetPath.mkdir(parents=True)\n",
    "if not segmentationPath.exists():\n",
    "    segmentationPath.mkdir(parents=True)\n",
    "\n",
    "for k, v in ogSegPair.items():\n",
    "    ogf, segf = v[0], v[1]\n",
    "    ogf_name = ogf.name.split(\".\")[0]\n",
    "    segf_name = segf.name.split(\".\")[0]\n",
    "    if ogf_name != segf_name:\n",
    "        print(ogf_name, segf_name)\n",
    "        break\n",
    "    \n",
    "    # shutil.copy2(ogf, datasetPath)    \n",
    "    shutil.copy2(segf, segmentationPath)\n",
    "    outFileName = datasetPath.joinpath(f\"{ogf.stem}.nii.gz\")\n",
    "    img = sitk.ReadImage(ogf)\n",
    "    sitk.WriteImage(img, fileName=outFileName)\n",
    "print(\"Dataset is done\")"
   ]
  },
  {
   "cell_type": "markdown",
   "id": "e41e6754-d564-4055-9ebb-3b14d453be51",
   "metadata": {},
   "source": [
    "## Convert Dataset to nnUNet structure"
   ]
  },
  {
   "cell_type": "code",
   "execution_count": null,
   "id": "4beca277-6a66-45a3-a112-6182e8d98ec5",
   "metadata": {},
   "outputs": [
    {
     "name": "stdout",
     "output_type": "stream",
     "text": [
      "99 79\n"
     ]
    }
   ],
   "source": [
    "trainRatio = 0.8\n",
    "nnUNetDatasetPath = datasetPath.parent.joinpath(datasetPath.name + f\"{trainRatio}\")\n",
    "imageTrFolder = nnUNetDatasetPath.joinpath(\"imagesTr\")\n",
    "imageTsFolder = nnUNetDatasetPath.joinpath(\"imagesTs\")\n",
    "labelTrFolder = nnUNetDatasetPath.joinpath(\"labelsTr\")\n",
    "labelTsFolder = nnUNetDatasetPath.joinpath(\"labelsTs\")\n",
    "if not nnUNetDatasetPath.exists():\n",
    "    nnUNetDatasetPath.mkdir(parents=True)\n",
    "    imageTrFolder.mkdir(parents=True)\n",
    "    imageTsFolder.mkdir(parents=True)\n",
    "    labelTrFolder.mkdir(parents=True)\n",
    "    labelTsFolder.mkdir(parents=True)\n",
    "    \n",
    "datasetFolderMg = FolderMg(datasetPath)\n",
    "segmentationMg = FolderMg(segmentationPath)\n",
    "\n",
    "nFile = datasetFolderMg.nFile\n",
    "nTrain = int(nFile * 0.8)\n",
    "for i, (ogf, segf) in enumerate(zip(datasetFolderMg.files, segmentationMg.files)):\n",
    "    ogf_name = ogf.name.split(\".\")[0]\n",
    "    segf_name = segf.name.split(\".\")[0]\n",
    "    assert ogf_name == segf_name\n",
    "    new_ogf_stem = f\"Ultrast_{str(i).zfill(3)}_0000\"\n",
    "    new_segf_stem = f\"Ultrast_{str(i).zfill(3)}\"\n",
    "    ogf_extension = \"\".join(ogf.suffixes)\n",
    "    segf_extension = \"\".join(segf.suffixes)\n",
    "    # print(new_ogf_stem, new_segf_stem, ogf_extension, segf_extension, new_ogf, new_segf)\n",
    "    if i < nTrain:\n",
    "        new_ogf = imageTrFolder.joinpath(new_ogf_stem + ogf_extension)\n",
    "        new_segf = labelTrFolder.joinpath(new_segf_stem + segf_extension)\n",
    "        shutil.copy2(ogf, new_ogf)\n",
    "        shutil.copy2(segf, new_segf)\n",
    "    else:\n",
    "        new_ogf = imageTsFolder.joinpath(new_ogf_stem + ogf_extension)\n",
    "        new_segf = labelTsFolder.joinpath(new_segf_stem + segf_extension)\n",
    "        shutil.copy2(ogf, new_ogf)\n",
    "        shutil.copy2(segf, new_segf)\n",
    "\n",
    "print(nFile, nTrain)"
   ]
  },
  {
   "cell_type": "markdown",
   "id": "de2b980d-d8f4-4abd-a2fe-6d0ee08ca4bf",
   "metadata": {},
   "source": [
    "## Generate dataset.json"
   ]
  },
  {
   "cell_type": "code",
   "execution_count": null,
   "id": "ff200f9f-8908-46da-a28a-e751b654e2a9",
   "metadata": {
    "tags": []
   },
   "outputs": [],
   "source": [
    "from nnunetv2.dataset_conversion.generate_dataset_json import generate_dataset_json\n",
    "\n",
    "channel_names = { 0: \"T2\"}\n",
    "labels = {'background':0, 'prostate':1}\n",
    "num_training_cases = 79\n",
    "file_ending = \".nii.gz\"\n",
    "overwrite_image_reader_writer = \"SimpleITKIO\"\n",
    "generate_dataset_json(str(nnUNetDatasetPath), channel_names=channel_names, labels=labels,num_training_cases=num_training_cases,file_ending=file_ending,overwrite_image_reader_writer=overwrite_image_reader_writer)"
   ]
  },
  {
   "cell_type": "markdown",
   "id": "c6861140-552a-4620-910e-0df50cd6260f",
   "metadata": {},
   "source": [
    "# Construct Lesion Dataset"
   ]
  },
  {
   "cell_type": "markdown",
   "id": "3baab8a2-01a6-4858-9fca-be0eec7fb9a4",
   "metadata": {},
   "source": [
    "## Define Path"
   ]
  },
  {
   "cell_type": "code",
   "execution_count": 8,
   "id": "40ad40c0",
   "metadata": {},
   "outputs": [],
   "source": [
    "sourcePath = Path(\"/home/ultrast/LesionSegmentation/\")"
   ]
  },
  {
   "cell_type": "code",
   "execution_count": null,
   "id": "acea587e",
   "metadata": {},
   "outputs": [],
   "source": [
    "sourceData = sourcePath.joinpath(\"MRI with tumor label organized\")\n",
    "sourceFM = FolderMg(sourceData)\n",
    "sourceFM.ls()"
   ]
  },
  {
   "cell_type": "code",
   "execution_count": 9,
   "id": "97a30aa3-e63a-44a1-b2ec-9a48ae3cf6f8",
   "metadata": {},
   "outputs": [
    {
     "data": {
      "text/plain": [
       "(76, 166)"
      ]
     },
     "execution_count": 9,
     "metadata": {},
     "output_type": "execute_result"
    }
   ],
   "source": [
    "sortDataPath = sourcePath.joinpath(\"LesionDataset\")\n",
    "if not sortDataPath.exists():\n",
    "    sortDataPath.mkdir(parents=True)\n",
    "\n",
    "name_cn_en_map = {}\n",
    "duplicate_name = []\n",
    "sortDataFM = FolderMg(sortDataPath)\n",
    "sortDataFM.nDir, sortDataFM.nFile"
   ]
  },
  {
   "cell_type": "markdown",
   "id": "94a73acb",
   "metadata": {},
   "source": [
    "## Copy Data to New Folder and Prune"
   ]
  },
  {
   "cell_type": "markdown",
   "id": "8f0748f3",
   "metadata": {},
   "source": [
    "### Convert Chinese Folder to English Folder (if Prune before can skip)\n",
    "e.g. 付平 will be Fu P"
   ]
  },
  {
   "cell_type": "code",
   "execution_count": 25,
   "id": "b289b556",
   "metadata": {},
   "outputs": [
    {
     "name": "stderr",
     "output_type": "stream",
     "text": [
      " 36%|███▌      | 28/78 [00:02<00:04, 11.54it/s]"
     ]
    },
    {
     "name": "stdout",
     "output_type": "stream",
     "text": [
      "Duplicate name found, 张治忠 with 张忠智\n"
     ]
    },
    {
     "name": "stderr",
     "output_type": "stream",
     "text": [
      "100%|██████████| 78/78 [00:07<00:00,  9.79it/s]\n",
      "100%|██████████| 342/342 [00:09<00:00, 37.94it/s]\n"
     ]
    }
   ],
   "source": [
    "import pinyin\n",
    "for d in tqdm.tqdm(sourceFM.dirs):\n",
    "    patient_name = pinyin.get(d.stem, format=\"strip\", delimiter=\" \").split(\" \")\n",
    "    surname = patient_name[0].capitalize()\n",
    "    name = [n.capitalize()[0] for n in patient_name[1:] if n != \"\"]\n",
    "    name = \"\".join(name)\n",
    "    new_d_name = f\"{surname} {name}\"\n",
    "    if new_d_name in name_cn_en_map.keys():\n",
    "        print(f\"Duplicate name found, {d.stem} with {name_cn_en_map[new_d_name].stem}\")\n",
    "        duplicate_name.append(new_d_name)\n",
    "        new_d_name = f\"{new_d_name} - {random.randint(0, 100)}\"\n",
    "    name_cn_en_map[new_d_name] = d\n",
    "\n",
    "    new_d = sortDataPath.joinpath(new_d_name)\n",
    "    if not new_d.exists():\n",
    "        new_d.mkdir(parents=True)\n",
    "\n",
    "    current_mg = FolderMg(d)\n",
    "    while(current_mg.nDir == 1 and current_mg.nFile == 0):\n",
    "        current_mg = FolderMg(current_mg.dirs[0])\n",
    "    current_mg.copy_to(new_d)  \n",
    "\n",
    "for f in tqdm.tqdm(sourceFM.files):\n",
    "    shutil.copy2(f, sortDataPath)\n"
   ]
  },
  {
   "cell_type": "markdown",
   "id": "62e325c2",
   "metadata": {},
   "source": [
    "### Prune Folder and Files (if pruned can skip)"
   ]
  },
  {
   "cell_type": "code",
   "execution_count": 26,
   "id": "1e035b90-d089-466d-9d1a-0f0c5e99ea65",
   "metadata": {},
   "outputs": [
    {
     "name": "stderr",
     "output_type": "stream",
     "text": [
      "100%|██████████| 8212/8212 [00:00<00:00, 15869.30it/s]\n",
      "100%|██████████| 342/342 [00:00<00:00, 1611.37it/s]\n"
     ]
    }
   ],
   "source": [
    "sortDataFM = FolderMg(sortDataPath)\n",
    "all_dicom_files = sortDataFM.get_file_recursive_by_extension(\"dcm\")\n",
    "\n",
    "for f in tqdm.tqdm(all_dicom_files):\n",
    "    if \"(1)\" in f.name or \"(2)\" in f.name:\n",
    "        f.unlink()\n",
    "\n",
    "for f in tqdm.tqdm(sortDataFM.files):\n",
    "    if \"(1)\" in f.name or \"(2)\" in f.name:\n",
    "        f.unlink()\n",
    "        "
   ]
  },
  {
   "cell_type": "code",
   "execution_count": 10,
   "id": "d51c2394",
   "metadata": {},
   "outputs": [
    {
     "data": {
      "text/plain": [
       "(76, 166)"
      ]
     },
     "execution_count": 10,
     "metadata": {},
     "output_type": "execute_result"
    }
   ],
   "source": [
    "sortDataFM = FolderMg(sortDataPath)\n",
    "sortDataFM.nDir, sortDataFM.nFile"
   ]
  },
  {
   "cell_type": "markdown",
   "id": "c4b8eec9",
   "metadata": {},
   "source": [
    "### Handle Duplicated Name (if pruned can skip)"
   ]
  },
  {
   "cell_type": "code",
   "execution_count": 28,
   "id": "8156648d",
   "metadata": {},
   "outputs": [
    {
     "name": "stdout",
     "output_type": "stream",
     "text": [
      "Duplicate name found\n",
      "File Zhang ZZ-ADC is deleted\n",
      "File Zhang ZZ-T2 is deleted\n",
      "File Zhang ZZ-sDWI is deleted\n",
      "Folder Zhang ZZ is deleted\n",
      "Folder Zhang ZZ - 48 is deleted\n"
     ]
    },
    {
     "data": {
      "text/plain": [
       "(76, 166)"
      ]
     },
     "execution_count": 28,
     "metadata": {},
     "output_type": "execute_result"
    }
   ],
   "source": [
    "if len(duplicate_name) > 0:\n",
    "    print(\"Duplicate name found\")\n",
    "    for n in duplicate_name:\n",
    "        for f in sortDataFM.files:\n",
    "            if n in f.stem:\n",
    "                f.unlink()\n",
    "                print(f\"File {f.stem} is deleted\")\n",
    "        for d in sortDataFM.dirs:\n",
    "            if n in d.stem:\n",
    "                shutil.rmtree(d)\n",
    "                print(f\"Folder {d.stem} is deleted\")\n",
    "sortDataFM = FolderMg(sortDataPath)\n",
    "sortDataFM.nDir, sortDataFM.nFile"
   ]
  },
  {
   "cell_type": "markdown",
   "id": "c52fc5af",
   "metadata": {},
   "source": [
    "## Sort label to Groups\n",
    "we have t2, adc and dwi"
   ]
  },
  {
   "cell_type": "code",
   "execution_count": 41,
   "id": "b6bb44d3",
   "metadata": {},
   "outputs": [
    {
     "name": "stderr",
     "output_type": "stream",
     "text": [
      "100%|██████████| 166/166 [00:00<00:00, 478854.51it/s]"
     ]
    },
    {
     "name": "stdout",
     "output_type": "stream",
     "text": [
      "T2: 75\n",
      "ADC: 75\n",
      "DWI: 16\n",
      "T2_ADC: 74\n",
      "T2_DWI: 15\n",
      "T2_DWI_ADC: 15\n"
     ]
    },
    {
     "name": "stderr",
     "output_type": "stream",
     "text": [
      "\n"
     ]
    }
   ],
   "source": [
    "modality_name_map = {}\n",
    "groups_key = [\"T2\", \"ADC\", \"DWI\"]\n",
    "combine_groups = [\"T2_ADC\", \"T2_DWI\", \"T2_DWI_ADC\"]\n",
    "\n",
    "for f in tqdm.tqdm(sortDataFM.files):\n",
    "    patient_name = f.stem.split('-')[0].upper()\n",
    "    \n",
    "    for k in groups_key:\n",
    "        if k in f.name.upper():\n",
    "            modality_name_map.setdefault(k, set()).add(patient_name)\n",
    "\n",
    "\n",
    "# find T2_ADC, T2_DWI, T2_DWI_ADC\n",
    "for k in combine_groups:\n",
    "    file_for_key = set()\n",
    "    \n",
    "    list_of_set = []\n",
    "    for sub_k in k.split(\"_\"):\n",
    "        if sub_k not in modality_name_map:\n",
    "            print(f\"{sub_k} is not in file_groups\")\n",
    "            continue\n",
    "        list_of_set.append(modality_name_map[sub_k])\n",
    "    \n",
    "    if len(list_of_set) == 0:\n",
    "        continue\n",
    "    file_for_key = list_of_set[0]\n",
    "    for i in range(1, len(list_of_set)):\n",
    "        file_for_key = file_for_key.intersection(list_of_set[i])\n",
    "    modality_name_map[k] = set(file_for_key)\n",
    "\n",
    "\n",
    "\n",
    "for k in groups_key:\n",
    "    print(f\"{k}: {len(modality_name_map[k])}\")\n",
    "for k in combine_groups:\n",
    "    print(f\"{k}: {len(modality_name_map[k])}\")"
   ]
  },
  {
   "cell_type": "code",
   "execution_count": 45,
   "id": "8b92ef4a",
   "metadata": {},
   "outputs": [
    {
     "name": "stdout",
     "output_type": "stream",
     "text": [
      "CHEN ZL is not in T2 group\n",
      "YAN HX is not in ADC group\n",
      "['WEI L', 'FU P', 'WU WS', 'MENG ZK', 'TIAN HY']\n",
      "['DUAN ZW', 'WEI L', 'FU P', 'WU WS', 'MENG ZK']\n",
      "{'YAN HX'}\n",
      "{'CHEN ZL'}\n"
     ]
    }
   ],
   "source": [
    "for d in sortDataFM.dirs:\n",
    "    patient_name = d.stem.upper()\n",
    "    if patient_name not in modality_name_map[\"T2\"]:\n",
    "        print(f\"{patient_name} is not in T2 group\")\n",
    "    if patient_name not in modality_name_map[\"ADC\"]:\n",
    "        print(f\"{patient_name} is not in ADC group\")\n",
    "\n",
    "assert modality_name_map[\"T2_DWI\"] == modality_name_map[\"T2_DWI_ADC\"]\n",
    "print(list(modality_name_map[\"T2_DWI\"])[:5])\n",
    "print(list(modality_name_map[\"T2_DWI_ADC\"])[:5])\n",
    "\n",
    "print(modality_name_map[\"T2\"].difference(modality_name_map[\"ADC\"]))\n",
    "print(modality_name_map[\"ADC\"].difference(modality_name_map[\"T2\"]))\n",
    "        "
   ]
  },
  {
   "cell_type": "markdown",
   "id": "01e540d5",
   "metadata": {},
   "source": [
    "### Find name to files path matches"
   ]
  },
  {
   "cell_type": "code",
   "execution_count": 46,
   "id": "ad689b38",
   "metadata": {},
   "outputs": [],
   "source": [
    "name_modality_map = {}\n",
    "for k in modality_name_map.keys():\n",
    "    for name in modality_name_map[k]:\n",
    "        name_modality_map.setdefault(name,set()).add(k)"
   ]
  },
  {
   "cell_type": "code",
   "execution_count": 55,
   "id": "bfb7a510",
   "metadata": {},
   "outputs": [],
   "source": [
    "name_folder_map = {}\n",
    "for d in sortDataFM.dirs:\n",
    "    if d.name.upper() in name_modality_map.keys():\n",
    "        name_folder_map[d.name.upper()] = d.name"
   ]
  },
  {
   "cell_type": "code",
   "execution_count": 56,
   "id": "70070769",
   "metadata": {},
   "outputs": [
    {
     "name": "stderr",
     "output_type": "stream",
     "text": [
      "100%|██████████| 76/76 [00:00<00:00, 7748.16it/s]\n"
     ]
    }
   ],
   "source": [
    "name_file_group = {}\n",
    "for d in tqdm.tqdm(sortDataFM.dirs):\n",
    "    patient_name = d.stem.upper()\n",
    "    for f in sortDataFM.files:\n",
    "        f_patient_name, modality = f.stem.split(\"-\")\n",
    "        if f_patient_name.upper() == patient_name:\n",
    "            name_file_group.setdefault(patient_name, {}).setdefault(modality, []).append(f)"
   ]
  },
  {
   "cell_type": "markdown",
   "id": "1c5c8d29",
   "metadata": {},
   "source": [
    "## Build a T2 only dataset"
   ]
  },
  {
   "cell_type": "markdown",
   "id": "d5cc1a00",
   "metadata": {},
   "source": [
    "## create a source folder and put original Data inside"
   ]
  },
  {
   "cell_type": "code",
   "execution_count": 57,
   "id": "8339719d",
   "metadata": {},
   "outputs": [],
   "source": [
    "T2sourcePath = sortDataPath.parent.joinpath(\"T2LesionDataset\")\n",
    "if not T2sourcePath.exists():\n",
    "    T2sourcePath.mkdir(parents=True)"
   ]
  },
  {
   "cell_type": "code",
   "execution_count": 63,
   "id": "b1e89c8f",
   "metadata": {},
   "outputs": [
    {
     "name": "stderr",
     "output_type": "stream",
     "text": [
      "  0%|          | 0/75 [00:00<?, ?it/s]"
     ]
    },
    {
     "name": "stdout",
     "output_type": "stream",
     "text": [
      "- 1.3.46.670589.11.78356.5.0.2084.2023063009304801000 is a dicom series\n",
      "- 1.3.46.670589.11.78356.5.0.6536.2023063009194753937 is a dicom series\n",
      "read all dicom series\n",
      "- 1.3.46.670589.11.78356.5.0.2084.2023063009304801000 read\n"
     ]
    },
    {
     "name": "stderr",
     "output_type": "stream",
     "text": [
      "  0%|          | 0/75 [00:00<?, ?it/s]"
     ]
    },
    {
     "name": "stdout",
     "output_type": "stream",
     "text": [
      "- 1.3.46.670589.11.78356.5.0.6536.2023063009194753937 read\n",
      "/home/ultrast/LesionSegmentation/LesionDataset/ZHANG LS\n",
      "dict_keys([])\n"
     ]
    },
    {
     "name": "stderr",
     "output_type": "stream",
     "text": [
      "\n"
     ]
    }
   ],
   "source": [
    "for name in tqdm.tqdm(modality_name_map[\"T2\"]):\n",
    "    files = name_file_group[name][\"T2\"]\n",
    "    dicom_folder_mg = DicomImageFolderMgITK(sortDataPath.joinpath(name_folder_map[name]))\n",
    "    print(sortDataPath.joinpath(name).absolute())\n",
    "    for dcm in dicom_folder_mg.dicomSeries:\n",
    "        print(dcm.necessaryTagsValue.keys())\n",
    "        break\n",
    "    break"
   ]
  },
  {
   "cell_type": "code",
   "execution_count": 68,
   "id": "40cc946c",
   "metadata": {},
   "outputs": [
    {
     "data": {
      "text/plain": [
       "('ITK_non_uniform_sampling_deviation',)"
      ]
     },
     "execution_count": 68,
     "metadata": {},
     "output_type": "execute_result"
    }
   ],
   "source": [
    "dcm.image.HasMetaDataKey(\"(0010|0020)\")\n",
    "dcm.metaData"
   ]
  },
  {
   "cell_type": "markdown",
   "id": "9068e7b2",
   "metadata": {},
   "source": [
    "## Build a T2 and ADC dataset"
   ]
  },
  {
   "cell_type": "markdown",
   "id": "3f17c79f",
   "metadata": {},
   "source": []
  }
 ],
 "metadata": {
  "kernelspec": {
   "display_name": "med-img",
   "language": "python",
   "name": "python3"
  },
  "language_info": {
   "codemirror_mode": {
    "name": "ipython",
    "version": 3
   },
   "file_extension": ".py",
   "mimetype": "text/x-python",
   "name": "python",
   "nbconvert_exporter": "python",
   "pygments_lexer": "ipython3",
   "version": "3.11.9"
  }
 },
 "nbformat": 4,
 "nbformat_minor": 5
}
