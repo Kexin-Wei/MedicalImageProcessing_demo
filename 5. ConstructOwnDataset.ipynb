{
 "cells": [
  {
   "cell_type": "code",
   "execution_count": 1,
   "id": "799183b6",
   "metadata": {},
   "outputs": [],
   "source": [
    "%load_ext autoreload\n",
    "%autoreload 2"
   ]
  },
  {
   "cell_type": "code",
   "execution_count": 17,
   "id": "eb122c1e-d307-44f1-8ea6-5d980fc91d51",
   "metadata": {},
   "outputs": [],
   "source": [
    "import random\n",
    "import tqdm\n",
    "import shutil\n",
    "import SimpleITK as sitk\n",
    "from pathlib import Path\n",
    "from typing import List\n",
    "\n",
    "from lib.folder.basic import FolderMg"
   ]
  },
  {
   "cell_type": "code",
   "execution_count": 18,
   "id": "e5a9ad3d-d41a-4a3f-85bd-5bee818a40b3",
   "metadata": {},
   "outputs": [],
   "source": [
    "def findDuplicateFileName(file_list: List[Path]):\n",
    "    file_names = []\n",
    "    for f in file_list:\n",
    "        f_name = f.name.split(\".\")[0]\n",
    "        if f_name in file_names:\n",
    "            print(f)\n",
    "        else:\n",
    "            file_names.append(f_name)\n",
    "    print(f\"Files should have {len(file_list)}, names have {len(file_names)}\")\n",
    "    return file_names"
   ]
  },
  {
   "cell_type": "markdown",
   "id": "f99b1ce3-bc8a-4bf0-8a4d-9826a2212b19",
   "metadata": {},
   "source": [
    "# Construct Prostate Dataset"
   ]
  },
  {
   "cell_type": "code",
   "execution_count": 3,
   "id": "727e4512-c164-4041-8b6f-5490d9e9d9d3",
   "metadata": {},
   "outputs": [
    {
     "ename": "FileNotFoundError",
     "evalue": "[WinError 3] The system cannot find the path specified: 'D:\\\\Medical Image - Research\\\\Clinical Data Prostate Segmentation Image Packages\\\\ReviewData'",
     "output_type": "error",
     "traceback": [
      "\u001b[1;31m---------------------------------------------------------------------------\u001b[0m",
      "\u001b[1;31mFileNotFoundError\u001b[0m                         Traceback (most recent call last)",
      "Cell \u001b[1;32mIn[3], line 4\u001b[0m\n\u001b[0;32m      1\u001b[0m sourceDataPath \u001b[38;5;241m=\u001b[39m Path(\n\u001b[0;32m      2\u001b[0m     \u001b[38;5;124m\"\u001b[39m\u001b[38;5;124mD:\u001b[39m\u001b[38;5;124m\\\u001b[39m\u001b[38;5;124mMedical Image - Research\u001b[39m\u001b[38;5;124m\\\u001b[39m\u001b[38;5;124mClinical Data Prostate Segmentation Image Packages\u001b[39m\u001b[38;5;124m\\\u001b[39m\u001b[38;5;124mReviewData\u001b[39m\u001b[38;5;124m\"\u001b[39m\n\u001b[0;32m      3\u001b[0m )\n\u001b[1;32m----> 4\u001b[0m sourceDataMg \u001b[38;5;241m=\u001b[39m \u001b[43mFolderMg\u001b[49m\u001b[43m(\u001b[49m\u001b[43msourceDataPath\u001b[49m\u001b[43m)\u001b[49m\n\u001b[0;32m      5\u001b[0m sourceDataMg\u001b[38;5;241m.\u001b[39mls()\n",
      "File \u001b[1;32md:\\GitRepos\\MedicalImageProcessing_demo\\lib\\folder\\basic.py:113\u001b[0m, in \u001b[0;36mFolderMg.__init__\u001b[1;34m(self, folderFullPath)\u001b[0m\n\u001b[0;32m    111\u001b[0m \u001b[38;5;28mself\u001b[39m\u001b[38;5;241m.\u001b[39mparentFolder \u001b[38;5;241m=\u001b[39m \u001b[38;5;28mself\u001b[39m\u001b[38;5;241m.\u001b[39mfull_path\u001b[38;5;241m.\u001b[39mparent\n\u001b[0;32m    112\u001b[0m \u001b[38;5;28mself\u001b[39m\u001b[38;5;241m.\u001b[39mfolderName \u001b[38;5;241m=\u001b[39m \u001b[38;5;28mself\u001b[39m\u001b[38;5;241m.\u001b[39mfull_path\u001b[38;5;241m.\u001b[39mname\n\u001b[1;32m--> 113\u001b[0m \u001b[38;5;28;43mself\u001b[39;49m\u001b[38;5;241;43m.\u001b[39;49m\u001b[43m_ge_files_dirs\u001b[49m\u001b[43m(\u001b[49m\u001b[43m)\u001b[49m\n",
      "File \u001b[1;32md:\\GitRepos\\MedicalImageProcessing_demo\\lib\\folder\\basic.py:59\u001b[0m, in \u001b[0;36mFolderMgBase._ge_files_dirs\u001b[1;34m(self)\u001b[0m\n\u001b[0;32m     57\u001b[0m \u001b[38;5;28;01mdef\u001b[39;00m \u001b[38;5;21m_ge_files_dirs\u001b[39m(\u001b[38;5;28mself\u001b[39m):\n\u001b[0;32m     58\u001b[0m     \u001b[38;5;28;01mif\u001b[39;00m \u001b[38;5;28mself\u001b[39m\u001b[38;5;241m.\u001b[39mfull_path \u001b[38;5;129;01mis\u001b[39;00m \u001b[38;5;129;01mnot\u001b[39;00m \u001b[38;5;28;01mNone\u001b[39;00m:\n\u001b[1;32m---> 59\u001b[0m         \u001b[38;5;28mself\u001b[39m\u001b[38;5;241m.\u001b[39mdirs \u001b[38;5;241m=\u001b[39m [p \u001b[38;5;28;01mfor\u001b[39;00m p \u001b[38;5;129;01min\u001b[39;00m \u001b[38;5;28mself\u001b[39m\u001b[38;5;241m.\u001b[39mfull_path\u001b[38;5;241m.\u001b[39miterdir() \u001b[38;5;28;01mif\u001b[39;00m p\u001b[38;5;241m.\u001b[39mis_dir()]\n\u001b[0;32m     60\u001b[0m         \u001b[38;5;28mself\u001b[39m\u001b[38;5;241m.\u001b[39mfiles \u001b[38;5;241m=\u001b[39m [f \u001b[38;5;28;01mfor\u001b[39;00m f \u001b[38;5;129;01min\u001b[39;00m \u001b[38;5;28mself\u001b[39m\u001b[38;5;241m.\u001b[39mfull_path\u001b[38;5;241m.\u001b[39miterdir() \u001b[38;5;28;01mif\u001b[39;00m f\u001b[38;5;241m.\u001b[39mis_file()]\n\u001b[0;32m     61\u001b[0m         \u001b[38;5;28mself\u001b[39m\u001b[38;5;241m.\u001b[39mdirs \u001b[38;5;241m=\u001b[39m natsort\u001b[38;5;241m.\u001b[39mnatsorted(\u001b[38;5;28mself\u001b[39m\u001b[38;5;241m.\u001b[39mdirs)\n",
      "File \u001b[1;32md:\\GitRepos\\MedicalImageProcessing_demo\\lib\\folder\\basic.py:59\u001b[0m, in \u001b[0;36m<listcomp>\u001b[1;34m(.0)\u001b[0m\n\u001b[0;32m     57\u001b[0m \u001b[38;5;28;01mdef\u001b[39;00m \u001b[38;5;21m_ge_files_dirs\u001b[39m(\u001b[38;5;28mself\u001b[39m):\n\u001b[0;32m     58\u001b[0m     \u001b[38;5;28;01mif\u001b[39;00m \u001b[38;5;28mself\u001b[39m\u001b[38;5;241m.\u001b[39mfull_path \u001b[38;5;129;01mis\u001b[39;00m \u001b[38;5;129;01mnot\u001b[39;00m \u001b[38;5;28;01mNone\u001b[39;00m:\n\u001b[1;32m---> 59\u001b[0m         \u001b[38;5;28mself\u001b[39m\u001b[38;5;241m.\u001b[39mdirs \u001b[38;5;241m=\u001b[39m [p \u001b[38;5;28;01mfor\u001b[39;00m p \u001b[38;5;129;01min\u001b[39;00m \u001b[38;5;28mself\u001b[39m\u001b[38;5;241m.\u001b[39mfull_path\u001b[38;5;241m.\u001b[39miterdir() \u001b[38;5;28;01mif\u001b[39;00m p\u001b[38;5;241m.\u001b[39mis_dir()]\n\u001b[0;32m     60\u001b[0m         \u001b[38;5;28mself\u001b[39m\u001b[38;5;241m.\u001b[39mfiles \u001b[38;5;241m=\u001b[39m [f \u001b[38;5;28;01mfor\u001b[39;00m f \u001b[38;5;129;01min\u001b[39;00m \u001b[38;5;28mself\u001b[39m\u001b[38;5;241m.\u001b[39mfull_path\u001b[38;5;241m.\u001b[39miterdir() \u001b[38;5;28;01mif\u001b[39;00m f\u001b[38;5;241m.\u001b[39mis_file()]\n\u001b[0;32m     61\u001b[0m         \u001b[38;5;28mself\u001b[39m\u001b[38;5;241m.\u001b[39mdirs \u001b[38;5;241m=\u001b[39m natsort\u001b[38;5;241m.\u001b[39mnatsorted(\u001b[38;5;28mself\u001b[39m\u001b[38;5;241m.\u001b[39mdirs)\n",
      "File \u001b[1;32mc:\\Users\\weike\\.conda\\envs\\med-img\\lib\\pathlib.py:1160\u001b[0m, in \u001b[0;36mPath.iterdir\u001b[1;34m(self)\u001b[0m\n\u001b[0;32m   1156\u001b[0m \u001b[38;5;28;01mdef\u001b[39;00m \u001b[38;5;21miterdir\u001b[39m(\u001b[38;5;28mself\u001b[39m):\n\u001b[0;32m   1157\u001b[0m \u001b[38;5;250m    \u001b[39m\u001b[38;5;124;03m\"\"\"Iterate over the files in this directory.  Does not yield any\u001b[39;00m\n\u001b[0;32m   1158\u001b[0m \u001b[38;5;124;03m    result for the special paths '.' and '..'.\u001b[39;00m\n\u001b[0;32m   1159\u001b[0m \u001b[38;5;124;03m    \"\"\"\u001b[39;00m\n\u001b[1;32m-> 1160\u001b[0m     \u001b[38;5;28;01mfor\u001b[39;00m name \u001b[38;5;129;01min\u001b[39;00m \u001b[38;5;28;43mself\u001b[39;49m\u001b[38;5;241;43m.\u001b[39;49m\u001b[43m_accessor\u001b[49m\u001b[38;5;241;43m.\u001b[39;49m\u001b[43mlistdir\u001b[49m\u001b[43m(\u001b[49m\u001b[38;5;28;43mself\u001b[39;49m\u001b[43m)\u001b[49m:\n\u001b[0;32m   1161\u001b[0m         \u001b[38;5;28;01mif\u001b[39;00m name \u001b[38;5;129;01min\u001b[39;00m {\u001b[38;5;124m'\u001b[39m\u001b[38;5;124m.\u001b[39m\u001b[38;5;124m'\u001b[39m, \u001b[38;5;124m'\u001b[39m\u001b[38;5;124m..\u001b[39m\u001b[38;5;124m'\u001b[39m}:\n\u001b[0;32m   1162\u001b[0m             \u001b[38;5;66;03m# Yielding a path object for these makes little sense\u001b[39;00m\n\u001b[0;32m   1163\u001b[0m             \u001b[38;5;28;01mcontinue\u001b[39;00m\n",
      "\u001b[1;31mFileNotFoundError\u001b[0m: [WinError 3] The system cannot find the path specified: 'D:\\\\Medical Image - Research\\\\Clinical Data Prostate Segmentation Image Packages\\\\ReviewData'"
     ]
    }
   ],
   "source": [
    "sourceDataPath = Path(\n",
    "    \"D:\\Medical Image - Research\\Clinical Data Prostate Segmentation Image Packages\\ReviewData\"\n",
    ")\n",
    "sourceDataMg = FolderMg(sourceDataPath)\n",
    "sourceDataMg.ls()"
   ]
  },
  {
   "cell_type": "markdown",
   "id": "855931ae-6d58-4b65-a6b5-5d56e47595e7",
   "metadata": {},
   "source": [
    "## Get valid Data\n",
    "1. according to the segmentation result, remove file with & in the name.\n",
    "2. find the original file according to valid segmentation result file"
   ]
  },
  {
   "cell_type": "code",
   "execution_count": null,
   "id": "305c096f-19a7-4603-9150-9b68cd41f581",
   "metadata": {},
   "outputs": [
    {
     "name": "stdout",
     "output_type": "stream",
     "text": [
      "DataPack1\n",
      "DataPack2\n",
      "DataPack3\n",
      "DataPack4\n",
      "DataPack5\n",
      "DataPack6\n",
      "DataPack7\n",
      "DataPack8\n",
      "DataPack9\n",
      "DataPack10\n",
      "DataPack11\n",
      "DataPack12\n",
      "DataPack13\n",
      "DataPack14\n"
     ]
    }
   ],
   "source": [
    "validSegmentationFiles = []\n",
    "validOriginalFiles = []\n",
    "for d in sourceDataMg.dirs:\n",
    "    print(d.name)\n",
    "    tempOgMg = FolderMg(d)\n",
    "    # tempOgMg.ls()\n",
    "    tempSegMg = FolderMg(d.joinpath(\"Segmentation\"))\n",
    "    # tempSegMg.ls()\n",
    "\n",
    "    useableFile = [f for f in tempSegMg.files if \"&\" not in f.name]\n",
    "    for i, segf in enumerate(useableFile):\n",
    "        segf_name = segf.name.split(\".\")[0]\n",
    "        matchOgFiles = []\n",
    "        for ogf in tempOgMg.files:\n",
    "            ogf_name = ogf.stem\n",
    "            if segf_name == ogf_name:\n",
    "                matchOgFiles.append(ogf)\n",
    "        # matchOgFiles = [ ogf for ogf in tempOgMg.files if segf_name in ogf.name and ogf.name in segf_name]\n",
    "        if len(matchOgFiles) != 1:\n",
    "            print(segf, matchOgFiles)\n",
    "            break\n",
    "        validOriginalFiles.extend(matchOgFiles)\n",
    "    validSegmentationFiles.extend(useableFile)\n",
    "assert len(validOriginalFiles) == len(validSegmentationFiles)"
   ]
  },
  {
   "cell_type": "markdown",
   "id": "54c3e07d-a220-410a-bf05-46bab20cd13b",
   "metadata": {},
   "source": [
    "## Filter out the same size original data"
   ]
  },
  {
   "cell_type": "code",
   "execution_count": null,
   "id": "3f1326e1-2904-44b2-bfb7-7241e213c063",
   "metadata": {},
   "outputs": [],
   "source": [
    "sizeDict = {}\n",
    "for i, f in enumerate(validOriginalFiles):\n",
    "    key = f.stat().st_size\n",
    "    if key in sizeDict:\n",
    "        duplicatesFiles = sourceDataPath.parent.joinpath(\"dup\", sizeDict[key].stem)\n",
    "        if not duplicatesFiles.exists():\n",
    "            Path.mkdir(duplicatesFiles, parents=True)\n",
    "        shutil.copy2(f, duplicatesFiles)\n",
    "        shutil.copy2(sizeDict[key], duplicatesFiles)\n",
    "        # print(key, sizeDict[key], f)\n",
    "    else:\n",
    "        sizeDict[key] = f"
   ]
  },
  {
   "cell_type": "code",
   "execution_count": null,
   "id": "b9da436a-c4ef-43cc-906f-724b82073cdc",
   "metadata": {},
   "outputs": [
    {
     "data": {
      "text/plain": [
       "99"
      ]
     },
     "execution_count": 6,
     "metadata": {},
     "output_type": "execute_result"
    }
   ],
   "source": [
    "len(sizeDict)"
   ]
  },
  {
   "cell_type": "markdown",
   "id": "bb049baf-6010-4a8e-87fa-d67c547f3177",
   "metadata": {},
   "source": [
    "## Shuffle the original data"
   ]
  },
  {
   "cell_type": "code",
   "execution_count": null,
   "id": "3f927e5a-e9eb-4db5-b6aa-0b7803dce605",
   "metadata": {},
   "outputs": [
    {
     "name": "stdout",
     "output_type": "stream",
     "text": [
      "D:\\Medical Image - Research\\Clinical Data Prostate Segmentation Image Packages\\ReviewData\\DataPack1\\FollowMR_t2_tse_fdixon_tra_p2_256_in_RD_UT20211224151916.mha\n",
      "D:\\Medical Image - Research\\Clinical Data Prostate Segmentation Image Packages\\ReviewData\\DataPack8\\MainMR_t2_tse_fdixon_tra_p2_256_W_RD_UT20211224151916.mha\n",
      "99\n",
      "Files should have 99, names have 99\n"
     ]
    },
    {
     "data": {
      "text/plain": [
       "'MainMR_t2_tse_fdixon_tra_p2_256_W_RD_UT20211224151916'"
      ]
     },
     "execution_count": 7,
     "metadata": {},
     "output_type": "execute_result"
    }
   ],
   "source": [
    "ogFiles = list(sizeDict.values())\n",
    "random.shuffle(ogFiles)\n",
    "print(list(sizeDict.values())[0])\n",
    "print(ogFiles[0])\n",
    "print(len(ogFiles))\n",
    "ogFilesNames = findDuplicateFileName(ogFiles)\n",
    "ogFilesNames[0]"
   ]
  },
  {
   "cell_type": "markdown",
   "id": "82434a74-e018-4c0e-8472-be5ddfafccf8",
   "metadata": {},
   "source": [
    "## Find its corrsponding segmentation result given new original data "
   ]
  },
  {
   "cell_type": "code",
   "execution_count": null,
   "id": "7050ec2f-2478-42bf-b01a-222b6d40ff51",
   "metadata": {},
   "outputs": [
    {
     "data": {
      "text/plain": [
       "99"
      ]
     },
     "execution_count": 8,
     "metadata": {},
     "output_type": "execute_result"
    }
   ],
   "source": [
    "ogSegPair = {}\n",
    "for ogf in ogFiles:\n",
    "    ogf_name = ogf.name.split(\".\")[0]\n",
    "    matchFiles = []\n",
    "    for segf in validSegmentationFiles:\n",
    "        segf_name = segf.name.split(\".\")[0]\n",
    "        if ogf_name == segf_name:\n",
    "            matchFiles.append(segf)\n",
    "            # print(ogf_name, segf_name)\n",
    "    if len(matchFiles) != 1:\n",
    "        print(ogf, matchFiles)\n",
    "        break\n",
    "    ogSegPair[ogf_name] = [ogf, matchFiles[0]]\n",
    "len(ogSegPair)"
   ]
  },
  {
   "cell_type": "markdown",
   "id": "337d33d1-4ef5-4610-8abf-c1965919d64c",
   "metadata": {},
   "source": [
    "## Construct Dataset and save to folder\n",
    "convert .mha and .nrrd to nii.gz"
   ]
  },
  {
   "cell_type": "code",
   "execution_count": null,
   "id": "26d60d85-d8a4-4fa7-94cb-5cf3564ce9ba",
   "metadata": {},
   "outputs": [
    {
     "name": "stdout",
     "output_type": "stream",
     "text": [
      "Dataset is done\n"
     ]
    }
   ],
   "source": [
    "datasetPath = sourceDataPath.parent.joinpath(f\"Dataset078_UltrastProstate\")\n",
    "if not datasetPath.exists():\n",
    "    datasetPath.mkdir(parents=True)\n",
    "segmentationPath = datasetPath.joinpath(\"labels\")\n",
    "if not datasetPath.exists():\n",
    "    datasetPath.mkdir(parents=True)\n",
    "if not segmentationPath.exists():\n",
    "    segmentationPath.mkdir(parents=True)\n",
    "\n",
    "for k, v in ogSegPair.items():\n",
    "    ogf, segf = v[0], v[1]\n",
    "    ogf_name = ogf.name.split(\".\")[0]\n",
    "    segf_name = segf.name.split(\".\")[0]\n",
    "    if ogf_name != segf_name:\n",
    "        print(ogf_name, segf_name)\n",
    "        break\n",
    "    \n",
    "    # shutil.copy2(ogf, datasetPath)    \n",
    "    shutil.copy2(segf, segmentationPath)\n",
    "    outFileName = datasetPath.joinpath(f\"{ogf.stem}.nii.gz\")\n",
    "    img = sitk.ReadImage(ogf)\n",
    "    sitk.WriteImage(img, fileName=outFileName)\n",
    "print(\"Dataset is done\")"
   ]
  },
  {
   "cell_type": "markdown",
   "id": "e41e6754-d564-4055-9ebb-3b14d453be51",
   "metadata": {},
   "source": [
    "## Convert Dataset to nnUNet structure"
   ]
  },
  {
   "cell_type": "code",
   "execution_count": null,
   "id": "4beca277-6a66-45a3-a112-6182e8d98ec5",
   "metadata": {},
   "outputs": [
    {
     "name": "stdout",
     "output_type": "stream",
     "text": [
      "99 79\n"
     ]
    }
   ],
   "source": [
    "trainRatio = 0.8\n",
    "nnUNetDatasetPath = datasetPath.parent.joinpath(datasetPath.name + f\"{trainRatio}\")\n",
    "imageTrFolder = nnUNetDatasetPath.joinpath(\"imagesTr\")\n",
    "imageTsFolder = nnUNetDatasetPath.joinpath(\"imagesTs\")\n",
    "labelTrFolder = nnUNetDatasetPath.joinpath(\"labelsTr\")\n",
    "labelTsFolder = nnUNetDatasetPath.joinpath(\"labelsTs\")\n",
    "if not nnUNetDatasetPath.exists():\n",
    "    nnUNetDatasetPath.mkdir(parents=True)\n",
    "    imageTrFolder.mkdir(parents=True)\n",
    "    imageTsFolder.mkdir(parents=True)\n",
    "    labelTrFolder.mkdir(parents=True)\n",
    "    labelTsFolder.mkdir(parents=True)\n",
    "    \n",
    "datasetFolderMg = FolderMg(datasetPath)\n",
    "segmentationMg = FolderMg(segmentationPath)\n",
    "\n",
    "nFile = datasetFolderMg.nFile\n",
    "nTrain = int(nFile * 0.8)\n",
    "for i, (ogf, segf) in enumerate(zip(datasetFolderMg.files, segmentationMg.files)):\n",
    "    ogf_name = ogf.name.split(\".\")[0]\n",
    "    segf_name = segf.name.split(\".\")[0]\n",
    "    assert ogf_name == segf_name\n",
    "    new_ogf_stem = f\"Ultrast_{str(i).zfill(3)}_0000\"\n",
    "    new_segf_stem = f\"Ultrast_{str(i).zfill(3)}\"\n",
    "    ogf_extension = \"\".join(ogf.suffixes)\n",
    "    segf_extension = \"\".join(segf.suffixes)\n",
    "    # print(new_ogf_stem, new_segf_stem, ogf_extension, segf_extension, new_ogf, new_segf)\n",
    "    if i < nTrain:\n",
    "        new_ogf = imageTrFolder.joinpath(new_ogf_stem + ogf_extension)\n",
    "        new_segf = labelTrFolder.joinpath(new_segf_stem + segf_extension)\n",
    "        shutil.copy2(ogf, new_ogf)\n",
    "        shutil.copy2(segf, new_segf)\n",
    "    else:\n",
    "        new_ogf = imageTsFolder.joinpath(new_ogf_stem + ogf_extension)\n",
    "        new_segf = labelTsFolder.joinpath(new_segf_stem + segf_extension)\n",
    "        shutil.copy2(ogf, new_ogf)\n",
    "        shutil.copy2(segf, new_segf)\n",
    "\n",
    "print(nFile, nTrain)"
   ]
  },
  {
   "cell_type": "markdown",
   "id": "de2b980d-d8f4-4abd-a2fe-6d0ee08ca4bf",
   "metadata": {},
   "source": [
    "## Generate dataset.json"
   ]
  },
  {
   "cell_type": "code",
   "execution_count": null,
   "id": "ff200f9f-8908-46da-a28a-e751b654e2a9",
   "metadata": {
    "tags": []
   },
   "outputs": [],
   "source": [
    "from nnunetv2.dataset_conversion.generate_dataset_json import generate_dataset_json\n",
    "\n",
    "channel_names = { 0: \"T2\"}\n",
    "labels = {'background':0, 'prostate':1}\n",
    "num_training_cases = 79\n",
    "file_ending = \".nii.gz\"\n",
    "overwrite_image_reader_writer = \"SimpleITKIO\"\n",
    "generate_dataset_json(str(nnUNetDatasetPath), channel_names=channel_names, labels=labels,num_training_cases=num_training_cases,file_ending=file_ending,overwrite_image_reader_writer=overwrite_image_reader_writer)"
   ]
  },
  {
   "cell_type": "markdown",
   "id": "c6861140-552a-4620-910e-0df50cd6260f",
   "metadata": {},
   "source": [
    "# Construct Lesion Dataset"
   ]
  },
  {
   "cell_type": "markdown",
   "id": "3baab8a2-01a6-4858-9fca-be0eec7fb9a4",
   "metadata": {},
   "source": [
    "## Define Path"
   ]
  },
  {
   "cell_type": "code",
   "execution_count": 27,
   "id": "97a30aa3-e63a-44a1-b2ec-9a48ae3cf6f8",
   "metadata": {},
   "outputs": [
    {
     "name": "stdout",
     "output_type": "stream",
     "text": [
      "\n",
      "Current Folder 'MRI with tumor label organized' contains 78 folders, which are:\n",
      "  - 付国胜\n",
      "  - 付平\n",
      "  - 何凤杰\n",
      "  - 刘光荣\n",
      "  - 刘卫国\n",
      "  - ...\n",
      "\n",
      "Current Folder 'MRI with tumor label organized' contains 342 files, which are:\n",
      "  - Cai YX-ADC(1).nii\n",
      "  - Cai YX-ADC.nii\n",
      "  - Cai YX-T2(1).nii\n",
      "  - Cai YX-T2.nii\n",
      "  - Cao K-ADC(1).nii\n",
      "  - ...\n"
     ]
    }
   ],
   "source": [
    "sourcePath = Path(\"D:\\Medical Image - Research\\Lesion Segmentation\\MRI with tumor label organized\")\n",
    "sourceFM = FolderMg(sourcePath)\n",
    "sourceFM.ls()\n",
    "\n",
    "sortDataPath = sourcePath.parent.joinpath(\"LesionDataset\")\n",
    "if not sortDataPath.exists():\n",
    "    sortDataPath.mkdir(parents=True)"
   ]
  },
  {
   "cell_type": "markdown",
   "id": "94a73acb",
   "metadata": {},
   "source": [
    "## Copy Data to New Folder and Prune"
   ]
  },
  {
   "cell_type": "markdown",
   "id": "8f0748f3",
   "metadata": {},
   "source": [
    "### Convert Chinese Folder to English Folder\n",
    "e.g. 付平 will be Fu P"
   ]
  },
  {
   "cell_type": "code",
   "execution_count": 52,
   "id": "b289b556",
   "metadata": {},
   "outputs": [
    {
     "name": "stderr",
     "output_type": "stream",
     "text": [
      "  0%|          | 0/78 [00:00<?, ?it/s]"
     ]
    },
    {
     "name": "stderr",
     "output_type": "stream",
     "text": [
      " 36%|███▌      | 28/78 [00:02<00:04, 11.49it/s]"
     ]
    },
    {
     "name": "stdout",
     "output_type": "stream",
     "text": [
      "Duplicate name found, 张治忠 with 张忠智\n"
     ]
    },
    {
     "name": "stderr",
     "output_type": "stream",
     "text": [
      "100%|██████████| 78/78 [00:06<00:00, 12.47it/s]\n"
     ]
    }
   ],
   "source": [
    "import pinyin\n",
    "\n",
    "name_cn_en_map = {}\n",
    "for d in tqdm.tqdm(sourceFM.dirs):\n",
    "    patient_name = pinyin.get(d.stem, format=\"strip\", delimiter=\" \").split(\" \")\n",
    "    surname = patient_name[0].capitalize()\n",
    "    name = [n.capitalize()[0] for n in patient_name[1:] if n != \"\"]\n",
    "    name = \"\".join(name)\n",
    "    new_d_name = f\"{surname} {name}\"\n",
    "    if new_d_name in name_cn_en_map.keys():\n",
    "        print(f\"Duplicate name found, {d.stem} with {name_cn_en_map[new_d_name].stem}\")\n",
    "        new_d_name = f\"{new_d_name}-{str(random.randint(0, 1000)).zfill(4)}\"\n",
    "    name_cn_en_map[new_d_name] = d\n",
    "\n",
    "    new_d = sortDataPath.joinpath(new_d_name)\n",
    "    if not new_d.exists():\n",
    "        new_d.mkdir(parents=True)\n",
    "\n",
    "    current_mg = FolderMg(d)\n",
    "    while(current_mg.nDir == 1 and current_mg.nFile == 0):\n",
    "        current_mg = FolderMg(current_mg.dirs[0])\n",
    "    current_mg.copy_to(new_d)  \n"
   ]
  },
  {
   "cell_type": "markdown",
   "id": "ba5eed98",
   "metadata": {},
   "source": [
    "### Copy label to new place"
   ]
  },
  {
   "cell_type": "code",
   "execution_count": 29,
   "id": "6a767900",
   "metadata": {},
   "outputs": [
    {
     "name": "stderr",
     "output_type": "stream",
     "text": [
      "100%|██████████| 342/342 [00:03<00:00, 102.40it/s]\n"
     ]
    }
   ],
   "source": [
    "for f in tqdm.tqdm(sourceFM.files):\n",
    "    if \"(1)\" in f.name:\n",
    "        continue\n",
    "    shutil.copy2(f, sortDataPath)"
   ]
  },
  {
   "cell_type": "markdown",
   "id": "62e325c2",
   "metadata": {},
   "source": [
    "### Prune Folder"
   ]
  },
  {
   "cell_type": "code",
   "execution_count": 33,
   "id": "1e035b90-d089-466d-9d1a-0f0c5e99ea65",
   "metadata": {},
   "outputs": [
    {
     "name": "stdout",
     "output_type": "stream",
     "text": [
      "\n",
      "Current Folder 'LesionDataset' contains 77 folders, which are:\n",
      "  - Cai YX\n",
      "  - Cao K\n",
      "  - Cao LY\n",
      "  - Chen ZL\n",
      "  - Cui PJ\n",
      "  - ...\n",
      "\n",
      "Current Folder 'LesionDataset' contains 171 files, which are:\n",
      "  - Cai YX-ADC.nii\n",
      "  - Cai YX-T2.nii\n",
      "  - Cao K-ADC.nii\n",
      "  - Cao K-T2.nii\n",
      "  - Cao LY-ADC.nii\n",
      "  - ...\n"
     ]
    },
    {
     "name": "stderr",
     "output_type": "stream",
     "text": [
      "100%|██████████| 4106/4106 [00:00<00:00, 1368657.09it/s]"
     ]
    },
    {
     "name": "stdout",
     "output_type": "stream",
     "text": [
      "\n",
      "Current Folder 'LesionDataset' contains 77 folders, which are:\n",
      "  - Cai YX\n",
      "  - Cao K\n",
      "  - Cao LY\n",
      "  - Chen ZL\n",
      "  - Cui PJ\n",
      "  - ...\n",
      "\n",
      "Current Folder 'LesionDataset' contains 171 files, which are:\n",
      "  - Cai YX-ADC.nii\n",
      "  - Cai YX-T2.nii\n",
      "  - Cao K-ADC.nii\n",
      "  - Cao K-T2.nii\n",
      "  - Cao LY-ADC.nii\n",
      "  - ...\n"
     ]
    },
    {
     "name": "stderr",
     "output_type": "stream",
     "text": [
      "\n"
     ]
    }
   ],
   "source": [
    "sortDataFM = FolderMg(sortDataPath)\n",
    "all_dicom_files = sortDataFM.get_file_recursive_by_extension(\"dcm\")\n",
    "\n",
    "for f in tqdm.tqdm(all_dicom_files):\n",
    "    if \"(1)\" in f.name:\n",
    "        f.unlink()\n",
    "sortDataFM = FolderMg(sortDataPath)\n",
    "sortDataFM.ls()\n",
    "        "
   ]
  },
  {
   "cell_type": "markdown",
   "id": "c52fc5af",
   "metadata": {},
   "source": [
    "## Sort label to Groups\n",
    "we have t2, adc and dwi"
   ]
  },
  {
   "cell_type": "code",
   "execution_count": 45,
   "id": "b6bb44d3",
   "metadata": {},
   "outputs": [
    {
     "name": "stderr",
     "output_type": "stream",
     "text": [
      "100%|██████████| 171/171 [00:00<00:00, 168679.68it/s]"
     ]
    },
    {
     "name": "stdout",
     "output_type": "stream",
     "text": [
      "T2: 76\n",
      "ADC: 76\n",
      "DWI: 17\n",
      "T2_ADC: 75\n",
      "T2_DWI: 16\n",
      "T2_DWI_ADC: 16\n"
     ]
    },
    {
     "name": "stderr",
     "output_type": "stream",
     "text": [
      "\n"
     ]
    }
   ],
   "source": [
    "file_groups = {}\n",
    "groups_key = [\"T2\", \"ADC\", \"DWI\"]\n",
    "combine_groups = [\"T2_ADC\", \"T2_DWI\", \"T2_DWI_ADC\"]\n",
    "\n",
    "for f in tqdm.tqdm(sortDataFM.files):\n",
    "    patient_name = f.stem.split('-')[0]\n",
    "    \n",
    "    for k in groups_key:\n",
    "        if k in f.name.upper():\n",
    "            file_groups.setdefault(k, set()).add(patient_name)\n",
    "\n",
    "# find T2_ADC, T2_DWI, T2_DWI_ADC\n",
    "for k in combine_groups:\n",
    "    file_for_key = set()\n",
    "    \n",
    "    list_of_set = []\n",
    "    for sub_k in k.split(\"_\"):\n",
    "        if sub_k not in file_groups:\n",
    "            print(f\"{sub_k} is not in file_groups\")\n",
    "            continue\n",
    "        list_of_set.append(file_groups[sub_k])\n",
    "    \n",
    "    if len(list_of_set) == 0:\n",
    "        continue\n",
    "    file_for_key = list_of_set[0]\n",
    "    for i in range(1, len(list_of_set)):\n",
    "        file_for_key = file_for_key.intersection(list_of_set[i])\n",
    "    file_groups[k] = set(file_for_key)\n",
    "\n",
    "\n",
    "\n",
    "for k in groups_key:\n",
    "    print(f\"{k}: {len(file_groups[k])}\")\n",
    "for k in combine_groups:\n",
    "    print(f\"{k}: {len(file_groups[k])}\")"
   ]
  },
  {
   "cell_type": "code",
   "execution_count": 49,
   "id": "774aeb9f",
   "metadata": {},
   "outputs": [
    {
     "name": "stdout",
     "output_type": "stream",
     "text": [
      "['Miao DZ', 'Wu WS', 'Liu GR', 'Zhang ZZ', 'Liu LJ']\n",
      "['Miao DZ', 'Wu WS', 'Liu GR', 'Zhang ZZ', 'Liu LJ']\n"
     ]
    }
   ],
   "source": [
    "assert file_groups[\"T2_DWI\"] == file_groups[\"T2_DWI_ADC\"]\n",
    "print(list(file_groups[\"T2_DWI\"])[:5])\n",
    "print(list(file_groups[\"T2_DWI_ADC\"])[:5])"
   ]
  },
  {
   "cell_type": "code",
   "execution_count": null,
   "id": "3de7ebec",
   "metadata": {},
   "outputs": [],
   "source": []
  }
 ],
 "metadata": {
  "kernelspec": {
   "display_name": "med-img",
   "language": "python",
   "name": "python3"
  },
  "language_info": {
   "codemirror_mode": {
    "name": "ipython",
    "version": 3
   },
   "file_extension": ".py",
   "mimetype": "text/x-python",
   "name": "python",
   "nbconvert_exporter": "python",
   "pygments_lexer": "ipython3",
   "version": "3.9.17"
  }
 },
 "nbformat": 4,
 "nbformat_minor": 5
}
