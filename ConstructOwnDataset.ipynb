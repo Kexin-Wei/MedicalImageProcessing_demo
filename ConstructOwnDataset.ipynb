{
 "cells": [
  {
   "cell_type": "markdown",
   "id": "f99b1ce3-bc8a-4bf0-8a4d-9826a2212b19",
   "metadata": {},
   "source": [
    "# Construct and simplify our own dataset"
   ]
  },
  {
   "cell_type": "code",
   "execution_count": 1,
   "id": "eb122c1e-d307-44f1-8ea6-5d980fc91d51",
   "metadata": {},
   "outputs": [],
   "source": [
    "from pathlib import Path\n",
    "\n",
    "from lib.folder import FolderMg"
   ]
  },
  {
   "cell_type": "code",
   "execution_count": 2,
   "id": "727e4512-c164-4041-8b6f-5490d9e9d9d3",
   "metadata": {},
   "outputs": [
    {
     "name": "stdout",
     "output_type": "stream",
     "text": [
      "\n",
      "Current Folder 'ReviewData' contains 14 folders, which are:\n",
      "  - DataPack1\n",
      "  - DataPack2\n",
      "  - DataPack3\n",
      "  - DataPack4\n",
      "  - DataPack5\n",
      "  - ...\n",
      "\n",
      "Current Folder 'ReviewData' contains NO files\n",
      "\n"
     ]
    }
   ],
   "source": [
    "sourceDataPath = \"D:\\Medical Image - Research\\Clinical Data Prostate Segmentation Image Packages\\ReviewData\"\n",
    "sourceDataMg = FolderMg(sourceDataPath)\n",
    "sourceDataMg.ls()"
   ]
  },
  {
   "cell_type": "markdown",
   "id": "855931ae-6d58-4b65-a6b5-5d56e47595e7",
   "metadata": {},
   "source": [
    "## Get valid Data\n",
    "1. according to the segmentation result, remove file with & in the name.\n",
    "2. find the original file according to valid segmentation result file"
   ]
  },
  {
   "cell_type": "code",
   "execution_count": 3,
   "id": "305c096f-19a7-4603-9150-9b68cd41f581",
   "metadata": {},
   "outputs": [
    {
     "name": "stdout",
     "output_type": "stream",
     "text": [
      "DataPack1\n",
      "DataPack2\n",
      "DataPack3\n",
      "DataPack4\n",
      "DataPack5\n",
      "DataPack6\n",
      "DataPack7\n",
      "DataPack8\n",
      "DataPack9\n",
      "DataPack10\n",
      "DataPack11\n",
      "DataPack12\n",
      "DataPack13\n",
      "DataPack14\n"
     ]
    }
   ],
   "source": [
    "validSegmentationFiles = []\n",
    "validOriginalFiles = []\n",
    "for d in sourceDataMg.dirs:\n",
    "    print(d.name)\n",
    "    tempOgMg = FolderMg(d)\n",
    "    # tempOgMg.ls()\n",
    "    tempSegMg = FolderMg(d.joinpath(\"Segmentation\"))\n",
    "    # tempSegMg.ls()\n",
    "\n",
    "    useableFile = [f for f in tempSegMg.files if \"&\" not in f.name]\n",
    "    for i, segf in enumerate(useableFile):\n",
    "        segf_name = segf.name.split(\".\")[0]\n",
    "        matchOgFiles = []\n",
    "        for ogf in tempOgMg.files:\n",
    "            ogf_name = ogf.stem\n",
    "            if segf_name == ogf_name:\n",
    "                matchOgFiles.append(ogf)\n",
    "        # matchOgFiles = [ ogf for ogf in tempOgMg.files if segf_name in ogf.name and ogf.name in segf_name]\n",
    "        if len(matchOgFiles) != 1:\n",
    "            print(segf, matchOgFiles)\n",
    "            break\n",
    "        validOriginalFiles.extend(matchOgFiles)\n",
    "    validSegmentationFiles.extend(useableFile)\n",
    "assert len(validOriginalFiles) == len(validSegmentationFiles)"
   ]
  },
  {
   "cell_type": "markdown",
   "id": "54c3e07d-a220-410a-bf05-46bab20cd13b",
   "metadata": {},
   "source": [
    "## Filter out the same size original data"
   ]
  },
  {
   "cell_type": "code",
   "execution_count": null,
   "id": "3f1326e1-2904-44b2-bfb7-7241e213c063",
   "metadata": {},
   "outputs": [],
   "source": []
  }
 ],
 "metadata": {
  "kernelspec": {
   "display_name": "Python 3 (ipykernel)",
   "language": "python",
   "name": "python3"
  },
  "language_info": {
   "codemirror_mode": {
    "name": "ipython",
    "version": 3
   },
   "file_extension": ".py",
   "mimetype": "text/x-python",
   "name": "python",
   "nbconvert_exporter": "python",
   "pygments_lexer": "ipython3",
   "version": "3.9.16"
  }
 },
 "nbformat": 4,
 "nbformat_minor": 5
}
